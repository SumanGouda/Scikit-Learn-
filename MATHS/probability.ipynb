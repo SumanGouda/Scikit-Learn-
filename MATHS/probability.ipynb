{
 "cells": [
  {
   "cell_type": "markdown",
   "id": "d5468afd",
   "metadata": {},
   "source": [
    "# 📊 Probability Topics for Machine Learning\n",
    "\n",
    "## 1. Basics of Probability\n",
    "- Definitions: sample space, outcomes, events\n",
    "- Probability rules (addition, multiplication)\n",
    "- Complementary events\n",
    "- Independent vs dependent events\n",
    "- Conditional probability\n",
    "- Bayes’ theorem\n",
    "\n",
    "## 2. Random Variables\n",
    "- Discrete vs continuous random variables\n",
    "- Probability mass function (PMF)\n",
    "- Probability density function (PDF)\n",
    "- Cumulative distribution function (CDF)\n",
    "\n",
    "## 3. Expectation & Variance\n",
    "- Mean (expected value)\n",
    "- Variance and standard deviation\n",
    "- Covariance and correlation\n",
    "\n",
    "## 4. Common Probability Distributions\n",
    "- **Discrete**:\n",
    "  - Bernoulli distribution\n",
    "  - Binomial distribution\n",
    "  - Poisson distribution\n",
    "- **Continuous**:\n",
    "  - Uniform distribution\n",
    "  - Normal (Gaussian) distribution\n",
    "  - Exponential distribution\n",
    "\n",
    "## 5. Sampling Concepts\n",
    "- Law of large numbers\n",
    "- Central limit theorem\n",
    "- Sampling methods (random, stratified, etc.)\n",
    "\n",
    "## 6. Probability in ML Applications\n",
    "- Likelihood and log-likelihood\n",
    "- Maximum likelihood estimation (MLE)\n",
    "- Naive Bayes classifier\n",
    "- Probabilistic interpretation of Logistic Regression\n",
    "- Overfitting and uncertainty in predictions\n",
    "\n",
    "---\n"
   ]
  }
 ],
 "metadata": {
  "kernelspec": {
   "display_name": "Python 3",
   "language": "python",
   "name": "python3"
  },
  "language_info": {
   "codemirror_mode": {
    "name": "ipython",
    "version": 3
   },
   "file_extension": ".py",
   "mimetype": "text/x-python",
   "name": "python",
   "nbconvert_exporter": "python",
   "pygments_lexer": "ipython3",
   "version": "3.11.9"
  }
 },
 "nbformat": 4,
 "nbformat_minor": 5
}
