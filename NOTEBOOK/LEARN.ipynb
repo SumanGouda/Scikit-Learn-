{
 "cells": [
  {
   "cell_type": "markdown",
   "id": "8794a4b1",
   "metadata": {},
   "source": [
    "###  Creating a KNN model manually (Without using scikit-learn) "
   ]
  },
  {
   "cell_type": "code",
   "execution_count": null,
   "id": "402a00ee",
   "metadata": {},
   "outputs": [],
   "source": [
    "import numpy as np \n",
    "from collections import Counter\n",
    "import pandas as pd\n",
    "\n",
    "def euclidean_distance(point1, point2):\n",
    "    x1, y1 = point1\n",
    "    x2, y2 = point2\n",
    "    dist = np.sqrt((x1 - x2)**2 + (y1 - y2)**2)\n",
    "    return dist\n",
    "\n",
    "def knn_predict(dataset, labels, test, k):\n",
    "    distance = []\n",
    "    for i in range (len(dataset)):\n",
    "        dist = euclidean_distance(dataset[i], test)\n",
    "        distance.append((dist, labels[i]))\n",
    "    distance.sort(key=lambda x: x[0])\n",
    "    neighbours = distance[:k]\n",
    "    labels_only = [label for _,label in neighbours]\n",
    "    return Counter(labels_only).most_common(1)[0][0]\n",
    "\n",
    "df = pd.read_json(r\"D:\\PYTON PROGRAMMING\\PYTHON FILES\\Scikit-Learn\\Data\\Student Performance.json\")\n",
    "print(df)\n",
    "print()\n",
    "prediction = knn_predict(df['training_data'].tolist(), df['training_labels'].tolist(), [3, 5], 1)\n",
    "print(prediction)\n"
   ]
  },
  {
   "cell_type": "markdown",
   "id": "caa88818",
   "metadata": {},
   "source": [
    "## Using Scikit-learn"
   ]
  },
  {
   "cell_type": "code",
   "execution_count": 1,
   "id": "352b15fb",
   "metadata": {},
   "outputs": [],
   "source": [
    "import pandas as pd\n",
    "import numpy as np\n",
    "\n",
    "from sklearn.model_selection import train_test_split\n",
    "from sklearn.preprocessing import StandardScaler\n",
    "from sklearn.neighbors import KNeighborsClassifier\n",
    "from sklearn.metrics import confusion_matrix, accuracy_score, f1_score"
   ]
  },
  {
   "cell_type": "code",
   "execution_count": null,
   "id": "09c9e958",
   "metadata": {},
   "outputs": [],
   "source": [
    "df = pd.read_csv(r\"D:\\PYTON PROGRAMMING\\PYTHON FILES\\Scikit-Learn\\Data\\diabetes.csv\")\n",
    "# Replace Zeroes\n",
    "zero_not_accepted = ['Glucose', 'BloodPressure', 'SkinThickness', 'BMI', 'Insulin']\n",
    "for column in zero_not_accepted:\n",
    "    df[column] = df[column].replace(0, np.nan)\n",
    "    mean = int(df[column].mean(skipna=True))\n",
    "    df[column] = df[column].replace(np.nan, mean)\n",
    "    \n",
    "# Split dataset\n",
    "x = df.iloc[:, 0:8]\n",
    "y = df.iloc[:, 8]\n",
    "x_train, x_test, y_train, y_test = train_test_split(x, y, test_size=0.2, random_state=0) \n",
    "\n",
    "# Feature Scaling\n",
    "sc_x = StandardScaler()\n",
    "x_train = sc_x.fit_transform(x_train)\n",
    "x_test = sc_x.transform(x_test)\n",
    "\n",
    "# Define the model\n",
    "classifier = KNeighborsClassifier(n_neighbors=5, metric='euclidean', p=2)\n",
    "classifier.fit(x_train, y_train)\n",
    "\n",
    "# Predict the test set results\n",
    "y_pred = classifier.predict(x_test)\n",
    "cm = confusion_matrix(y_test, y_pred)\n",
    "print(cm)\n",
    "\n",
    "print(f1_score(y_test, y_pred))\n",
    "print(accuracy_score(y_test, y_pred))"
   ]
  },
  {
   "cell_type": "code",
   "execution_count": 16,
   "id": "8a843c6e",
   "metadata": {},
   "outputs": [
    {
     "name": "stdout",
     "output_type": "stream",
     "text": [
      "Accuracy:  1.0\n"
     ]
    }
   ],
   "source": [
    "from sklearn.datasets import load_iris\n",
    "from sklearn.model_selection import train_test_split\n",
    "from sklearn.neighbors import KNeighborsClassifier\n",
    "\n",
    "iris = load_iris()\n",
    "x = iris.data\n",
    "y = iris.target\n",
    "\n",
    "x_train, x_test, y_train, y_test = train_test_split(x, y, test_size=0.2, random_state=42) \n",
    "knn = KNeighborsClassifier(n_neighbors=3)\n",
    "knn.fit(x_train, y_train)\n",
    "\n",
    "predictions = knn.predict(x_test)\n",
    "accuracy = knn.score(x_test, y_test)\n",
    "print(\"Accuracy: \", accuracy) "
   ]
  }
 ],
 "metadata": {
  "kernelspec": {
   "display_name": "Python 3",
   "language": "python",
   "name": "python3"
  },
  "language_info": {
   "codemirror_mode": {
    "name": "ipython",
    "version": 3
   },
   "file_extension": ".py",
   "mimetype": "text/x-python",
   "name": "python",
   "nbconvert_exporter": "python",
   "pygments_lexer": "ipython3",
   "version": "3.11.9"
  }
 },
 "nbformat": 4,
 "nbformat_minor": 5
}
