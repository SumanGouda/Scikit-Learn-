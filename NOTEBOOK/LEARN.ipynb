{
 "cells": [
  {
   "cell_type": "markdown",
   "id": "8794a4b1",
   "metadata": {},
   "source": [
    "###  Creating a KNN model manually (Without using scikit-learn) "
   ]
  },
  {
   "cell_type": "code",
   "execution_count": null,
   "id": "402a00ee",
   "metadata": {},
   "outputs": [],
   "source": [
    "import numpy as np \n",
    "from collections import Counter\n",
    "import pandas as pd\n",
    "\n",
    "def euclidean_distance(point1, point2):\n",
    "    x1, y1 = point1\n",
    "    x2, y2 = point2\n",
    "    dist = np.sqrt((x1 - x2)**2 + (y1 - y2)**2)\n",
    "    return dist\n",
    "\n",
    "def knn_predict(dataset, labels, test, k):\n",
    "    distance = []\n",
    "    for i in range (len(dataset)):\n",
    "        dist = euclidean_distance(dataset[i], test)\n",
    "        distance.append((dist, labels[i]))\n",
    "    distance.sort(key=lambda x: x[0])\n",
    "    neighbours = distance[:k]\n",
    "    labels_only = [label for _,label in neighbours]\n",
    "    return Counter(labels_only).most_common(1)[0][0]\n",
    "\n",
    "df = pd.read_json(r\"D:\\PYTON PROGRAMMING\\PYTHON FILES\\Scikit-Learn\\Data\\Student Performance.json\")\n",
    "print(df)\n",
    "print()\n",
    "prediction = knn_predict(df['training_data'].tolist(), df['training_labels'].tolist(), [3, 5], 1)\n",
    "print(prediction)\n"
   ]
  },
  {
   "cell_type": "markdown",
   "id": "caa88818",
   "metadata": {},
   "source": [
    "## Using Scikit-learn"
   ]
  },
  {
   "cell_type": "code",
   "execution_count": 1,
   "id": "352b15fb",
   "metadata": {},
   "outputs": [],
   "source": [
    "import pandas as pd\n",
    "import numpy as np\n",
    "\n",
    "from sklearn.model_selection import train_test_split\n",
    "from sklearn.preprocessing import StandardScaler\n",
    "from sklearn.neighbors import KNeighborsClassifier\n",
    "from sklearn.metrics import confusion_matrix, accuracy_score, f1_score"
   ]
  },
  {
   "cell_type": "code",
   "execution_count": null,
   "id": "09c9e958",
   "metadata": {},
   "outputs": [],
   "source": [
    "df = pd.read_csv(r\"D:\\PYTON PROGRAMMING\\PYTHON FILES\\Scikit-Learn\\Data\\diabetes.csv\")\n",
    "# Replace Zeroes\n",
    "zero_not_accepted = ['Glucose', 'BloodPressure', 'SkinThickness', 'BMI', 'Insulin']\n",
    "for column in zero_not_accepted:\n",
    "    df[column] = df[column].replace(0, np.nan)\n",
    "    mean = int(df[column].mean(skipna=True))\n",
    "    df[column] = df[column].replace(np.nan, mean)\n",
    "    \n",
    "# Split dataset\n",
    "x = df.iloc[:, 0:8]\n",
    "y = df.iloc[:, 8]\n",
    "x_train, x_test, y_train, y_test = train_test_split(x, y, test_size=0.2, random_state=0) \n",
    "\n",
    "# Feature Scaling\n",
    "sc_x = StandardScaler()\n",
    "x_train = sc_x.fit_transform(x_train)\n",
    "x_test = sc_x.transform(x_test)\n",
    "\n",
    "# Define the model\n",
    "classifier = KNeighborsClassifier(n_neighbors=5, metric='euclidean', p=2)\n",
    "classifier.fit(x_train, y_train)\n",
    "\n",
    "# Predict the test set results\n",
    "y_pred = classifier.predict(x_test)\n",
    "cm = confusion_matrix(y_test, y_pred)\n",
    "print(cm)\n",
    "\n",
    "print(f1_score(y_test, y_pred))\n",
    "print(accuracy_score(y_test, y_pred))"
   ]
  },
  {
   "cell_type": "markdown",
   "id": "73ab51fe",
   "metadata": {},
   "source": [
    "#### Iris dataset"
   ]
  },
  {
   "cell_type": "code",
   "execution_count": 3,
   "id": "8a843c6e",
   "metadata": {},
   "outputs": [
    {
     "name": "stdout",
     "output_type": "stream",
     "text": [
      "[2 1 0 2 0 2 0 1 1 1 2 1 1 1 1 0 1 1 0 0 2 1 0 0 2 0 0 1 1 0]\n"
     ]
    }
   ],
   "source": [
    "from sklearn.neighbors import KNeighborsClassifier\n",
    "from sklearn.model_selection import train_test_split\n",
    "from sklearn.datasets import load_iris\n",
    "\n",
    "data = load_iris()\n",
    "x = data.data\n",
    "y = data.target\n",
    "\n",
    "x_train, x_test, y_train, y_test = train_test_split(x, y, test_size=0.2, random_state=0)\n",
    "\n",
    "model = KNeighborsClassifier(n_neighbors=3)\n",
    "\n",
    "model.fit(x_train, y_train)\n",
    "prediction = model.predict(x_test)\n",
    "\n",
    "accuracy = model.score(x_test, y_test)\n",
    "print(y_test)\n"
   ]
  },
  {
   "cell_type": "markdown",
   "id": "6b93dcf1",
   "metadata": {},
   "source": [
    "## Practice Problems "
   ]
  },
  {
   "cell_type": "markdown",
   "id": "9deca56f",
   "metadata": {},
   "source": [
    "#### Classify \"Pass\" or \"Fail\""
   ]
  },
  {
   "cell_type": "code",
   "execution_count": null,
   "id": "5862b6c3",
   "metadata": {},
   "outputs": [],
   "source": [
    "# Load the data\n",
    "data = pd.DataFrame({\n",
    "    'hours_studied': [2, 1, 3, 4, 5],\n",
    "    'hours_slept': [9, 5, 6, 8, 5],\n",
    "    'label': ['Fail', 'Fail', 'Pass', 'Pass', 'Pass']\n",
    "})\n",
    "\n",
    "# Train the model\n",
    "model = KNeighborsClassifier(n_neighbors=1)\n",
    "model.fit(data[['hours_studied', 'hours_slept']], data['label'])\n",
    "\n",
    "# Make a prediction\n",
    "prediction = model.predict([[3, 7]])    # Predict method expects a 2D array-like input, where each row represents a single sample.\n",
    "accuracy = model.score([[3, 12]], ['Pass'])\n",
    "print(prediction)"
   ]
  },
  {
   "cell_type": "markdown",
   "id": "caa89a88",
   "metadata": {},
   "source": [
    "#### You’re analyzing data from a marketing campaign. Each row has the following features:\n",
    "- Age\n",
    "- Monthly Income (in thousands ₹)\n",
    "- Time spent on product website (in minutes)\n",
    "- Label: \"Buy\" or \"NoBuy\"\n"
   ]
  },
  {
   "cell_type": "code",
   "execution_count": 22,
   "id": "2d82f2df",
   "metadata": {},
   "outputs": [
    {
     "name": "stdout",
     "output_type": "stream",
     "text": [
      "0.0\n"
     ]
    }
   ],
   "source": [
    "# Load Data\n",
    "training_data = [\n",
    "    [22, 12, 15],\n",
    "    [25, 18, 25],\n",
    "    [27, 25, 35],\n",
    "    [30, 28, 45],\n",
    "    [35, 30, 20],\n",
    "    [40, 35, 30],\n",
    "    [45, 40, 50],\n",
    "    [38, 36, 22],\n",
    "    [29, 22, 38],\n",
    "    [26, 16, 26]\n",
    "]\n",
    "\n",
    "training_labels = [\n",
    "    \"NoBuy\",\n",
    "    \"NoBuy\",\n",
    "    \"Buy\",\n",
    "    \"Buy\",\n",
    "    \"NoBuy\",\n",
    "    \"Buy\",\n",
    "    \"Buy\",\n",
    "    \"NoBuy\",\n",
    "    \"Buy\",\n",
    "    \"NoBuy\"\n",
    "]\n",
    "\n",
    "test_point = [28, 18, 32]\n",
    "\n",
    "# Making Dataframe \n",
    "data = pd.DataFrame(training_data, columns=['Age', 'Income', 'Time on Site'])\n",
    "data['Label'] = training_labels\n",
    "\n",
    "model = KNeighborsClassifier(n_neighbors=2)\n",
    "model.fit(training_data, training_labels)\n",
    "\n",
    "prediction = model.predict([test_point])\n",
    "accuracy = model.score([test_point], ['NoBuy'])\n",
    "print(accuracy)"
   ]
  }
 ],
 "metadata": {
  "kernelspec": {
   "display_name": "Python 3",
   "language": "python",
   "name": "python3"
  },
  "language_info": {
   "codemirror_mode": {
    "name": "ipython",
    "version": 3
   },
   "file_extension": ".py",
   "mimetype": "text/x-python",
   "name": "python",
   "nbconvert_exporter": "python",
   "pygments_lexer": "ipython3",
   "version": "3.11.9"
  }
 },
 "nbformat": 4,
 "nbformat_minor": 5
}
