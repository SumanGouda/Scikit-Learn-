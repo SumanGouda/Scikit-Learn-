{
 "cells": [
  {
   "cell_type": "code",
   "execution_count": 5,
   "id": "aa2257df",
   "metadata": {},
   "outputs": [
    {
     "name": "stdout",
     "output_type": "stream",
     "text": [
      "[[10, 10, 10], [10, 10, 10], [10, 10, 10]]\n"
     ]
    }
   ],
   "source": [
    "x = [[1, 2, 3],[4, 5, 6],[7, 8, 9]]\n",
    "y = [[9, 8, 7],[6, 5, 4],[3, 2, 1]]\n",
    "res = [[0]*3 for _ in range (3)]\n",
    "\n",
    "for i in range (len(x)):\n",
    "    for j in range (len(x[0])):\n",
    "        res[i][j] = x[i][j] + y[i][j]\n",
    "        \n",
    "print(res)"
   ]
  },
  {
   "cell_type": "code",
   "execution_count": 12,
   "id": "666e147b",
   "metadata": {},
   "outputs": [
    {
     "name": "stdout",
     "output_type": "stream",
     "text": [
      "Order of matrix must be same for multiplicatioj and division.\n",
      "list index out of range\n"
     ]
    }
   ],
   "source": [
    "x = [[2, 4, 6],\n",
    "    [8, 10, 12],\n",
    "    [14, 16, 18]]\n",
    "\n",
    "y = [[1, 2, 3],\n",
    "    [4, 5, 6]]\n",
    "\n",
    "try:\n",
    "    mul_res = [[x[i][j] * y[i][j] for j in range(len(x[0]))] for i in range(len(x))]\n",
    "    div_res = [[x[i][j] // y[0][1] for j in range(len(x[0]))] for i in range(len(x))]\n",
    "    print(mul_res)\n",
    "except Exception as e:\n",
    "    print(f\"Order of matrix must be same for multiplicatioj and division.\\n{e}\")"
   ]
  },
  {
   "cell_type": "markdown",
   "id": "16a559af",
   "metadata": {},
   "source": [
    "## Linear Regression "
   ]
  },
  {
   "cell_type": "code",
   "execution_count": null,
   "id": "fa244100",
   "metadata": {},
   "outputs": [],
   "source": [
    "import numpy as np \n",
    "import matplotlib.pyplot as plt\n",
    "def gradiant_decent(x, y):\n",
    "    m = b = 0\n",
    "    learning_rate = 0.006\n",
    "    iteration = 4515\n",
    "    for i in range (iteration):\n",
    "        y_pred = m * x + b\n",
    "        cost = sum((y_pred - y) ** 2) / len(x)\n",
    "        dm = -2 * (sum(x * (y - (m*x + b)))) / len(x)\n",
    "        db = -2 * (sum(y - (m*x + b))) / len(x)\n",
    "        m = m - learning_rate * dm\n",
    "        b = b - learning_rate * db\n",
    "        print(f\" m = {m}, b = {b}, cost = {cost}, iteration = {i}\")\n",
    "        \n",
    "plt.plot(x, y, marker = 'o')\n",
    "plt.show()\n",
    "x = np.arange(2, 7)\n",
    "y =  np.arange(12, 17)\n",
    "gradiant_decent(x, y)"
   ]
  },
  {
   "cell_type": "markdown",
   "id": "138c6753",
   "metadata": {},
   "source": []
  }
 ],
 "metadata": {
  "kernelspec": {
   "display_name": "Python 3",
   "language": "python",
   "name": "python3"
  },
  "language_info": {
   "codemirror_mode": {
    "name": "ipython",
    "version": 3
   },
   "file_extension": ".py",
   "mimetype": "text/x-python",
   "name": "python",
   "nbconvert_exporter": "python",
   "pygments_lexer": "ipython3",
   "version": "3.11.9"
  }
 },
 "nbformat": 4,
 "nbformat_minor": 5
}
