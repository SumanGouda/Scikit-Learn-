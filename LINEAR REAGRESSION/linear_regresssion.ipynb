{
 "cells": [
  {
   "cell_type": "code",
   "execution_count": 2,
   "id": "2a8e99be",
   "metadata": {},
   "outputs": [],
   "source": [
    "import pandas as pd\n",
    "import numpy as np \n",
    "import matplotlib.pyplot as plt"
   ]
  },
  {
   "cell_type": "markdown",
   "id": "1bb20fce",
   "metadata": {},
   "source": [
    "### Creating own Linear Regression Model Class"
   ]
  },
  {
   "cell_type": "code",
   "execution_count": 3,
   "id": "7c129d91",
   "metadata": {},
   "outputs": [],
   "source": [
    "class Own_linear_regression:\n",
    "    def __init__(self):\n",
    "        self.coef_ = None\n",
    "        self.intercept_ = None\n",
    "        \n",
    "    def fit (self, X, Y):\n",
    "        den = 0\n",
    "        num = 0\n",
    "        for i in range(X.shape[0]):\n",
    "            num += (X[i] - np.mean(X)) * (Y[i] - np.mean(Y))\n",
    "            den += (X[i] - np.mean(X)) ** 2\n",
    "            \n",
    "        self.coef_ = num / den\n",
    "        self.intercept_ = np.mean(Y) - self.coef_ * np.mean(X)\n",
    "    \n",
    "    def predict(self, X):\n",
    "        return self.intercept_ + self.coef_ * X\n",
    "    \n",
    "# Limitation is that the data should have a linear relationship and one independent variable"
   ]
  },
  {
   "cell_type": "code",
   "execution_count": 16,
   "id": "43e171fa",
   "metadata": {},
   "outputs": [
    {
     "data": {
      "image/png": "[encoded data removed]",
      "text/plain": [
       "<Figure size 640x480 with 1 Axes>"
      ]
     },
     "metadata": {},
     "output_type": "display_data"
    }
   ],
   "source": [
    "df = pd.read_csv('https://raw.githubusercontent.com/campusx-official/100-days-of-machine-learning/refs/heads/main/day48-simple-linear-regression/placement.csv')\n",
    "\n",
    "X = df.iloc[:, :-1].values\n",
    "Y = df.iloc[:, 1].values\n",
    "\n",
    "from sklearn.model_selection import train_test_split\n",
    "X_train, X_test, Y_train, Y_test = train_test_split(X, Y, test_size = 0.2, random_state = 0)\n",
    "\n",
    "regressor = Own_linear_regression()\n",
    "regressor.fit(X_train, Y_train)\n",
    "Y_pred = regressor.predict(X_test)\n",
    "\n",
    "plt.plot(X_test, Y_pred, color = 'red')\n",
    "plt.scatter(X_test, Y_test, color = 'blue')\n",
    "plt.show()"
   ]
  },
  {
   "cell_type": "markdown",
   "id": "c2ecb42c",
   "metadata": {},
   "source": [
    "## Multiple Linear Regression \n",
    "* When there are more than one independent variables in the dataset. \n",
    "* It is an extension of simple linear regression. \n",
    "<br>\n",
    "<br>\n",
    "\n",
    "+ **Y = β0 + β1X1 + β2X2 + … + βnXn + ε**\n"
   ]
  },
  {
   "cell_type": "code",
   "execution_count": 3,
   "id": "a03f4098",
   "metadata": {},
   "outputs": [],
   "source": [
    "import pandas as pd \n",
    "import numpy as np \n",
    "from sklearn.linear_model import LinearRegression   \n",
    "from sklearn.datasets import load_diabetes\n",
    "from sklearn.model_selection import train_test_split\n",
    "from sklearn.metrics import mean_squared_error, r2_score\n",
    "\n",
    "diabetes = load_diabetes()\n",
    "X = diabetes.data\n",
    "y = diabetes.target\n",
    "\n",
    "X_train, X_test, y_train, y_test = train_test_split(X, y, test_size = 0.2, random_state = 0)"
   ]
  },
  {
   "cell_type": "code",
   "execution_count": 5,
   "id": "3781773f",
   "metadata": {},
   "outputs": [
    {
     "name": "stdout",
     "output_type": "stream",
     "text": [
      "Mean squared error: 3424.2593\n",
      "R-squared: 0.3322\n",
      "Intercept: 152.5380470138517\n",
      "Coefficients: [ -35.55025079 -243.16508959  562.76234744  305.46348218 -662.70290089\n",
      "  324.20738537   24.74879489  170.3249615   731.63743545   43.0309307 ]\n"
     ]
    }
   ],
   "source": [
    "reg = LinearRegression()\n",
    "reg.fit(X_train, y_train)\n",
    "y_pred = reg.predict(X_test)\n",
    "mse = mean_squared_error(y_test, y_pred)\n",
    "r2 = r2_score(y_test, y_pred)\n",
    "print(f\"Mean squared error: {mse:.4f}\")\n",
    "print(f\"R-squared: {r2:.4f}\")\n",
    "print(f'Intercept: {reg.intercept_}')\n",
    "print(f'Coefficients: {reg.coef_}')"
   ]
  },
  {
   "cell_type": "markdown",
   "id": "45c07882",
   "metadata": {},
   "source": [
    "### Making Own Linear Regression "
   ]
  },
  {
   "cell_type": "code",
   "execution_count": 8,
   "id": "e850e664",
   "metadata": {},
   "outputs": [
    {
     "name": "stdout",
     "output_type": "stream",
     "text": [
      "R-squared: 0.3322\n"
     ]
    }
   ],
   "source": [
    "class Own_Multiple_linear_regression:\n",
    "    def __init__(self):\n",
    "        self.coef_ = None\n",
    "        self.intercept_ = None\n",
    "        \n",
    "    def fit(self, X_train, y_train):\n",
    "        X_train = np.insert(X_train, 0, 1, axis = 1)  # Inserts the one column at the start of the array\n",
    "        \n",
    "        beta = np.linalg.inv(np.dot(X_train.T, X_train)).dot(X_train.T).dot(y_train)\n",
    "        self.intercept_ = beta[0]\n",
    "        self.coef_ = beta[1:]\n",
    "\n",
    "        \n",
    "    def predict(self, X_test):\n",
    "        y_pred = np.dot(X_test, self.coef_) + self.intercept_\n",
    "        return y_pred\n",
    "\n",
    "        \n",
    "reg = Own_Multiple_linear_regression()\n",
    "reg.fit(X_train, y_train)\n",
    "reg.predict(X_test)\n",
    "\n",
    "r2 = r2_score(y_test, y_pred)    \n",
    "print(f\"R-squared: {r2:.4f}\")"
   ]
  }
 ],
 "metadata": {
  "kernelspec": {
   "display_name": "Python 3",
   "language": "python",
   "name": "python3"
  },
  "language_info": {
   "codemirror_mode": {
    "name": "ipython",
    "version": 3
   },
   "file_extension": ".py",
   "mimetype": "text/x-python",
   "name": "python",
   "nbconvert_exporter": "python",
   "pygments_lexer": "ipython3",
   "version": "3.11.9"
  }
 },
 "nbformat": 4,
 "nbformat_minor": 5
}
