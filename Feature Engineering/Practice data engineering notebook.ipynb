{
 "cells": [
  {
   "cell_type": "code",
   "execution_count": 1,
   "id": "ff360d01",
   "metadata": {},
   "outputs": [],
   "source": [
    "import pandas as pd "
   ]
  },
  {
   "cell_type": "code",
   "execution_count": 35,
   "id": "97b66772",
   "metadata": {},
   "outputs": [],
   "source": [
    "df = pd.read_csv('https://raw.githubusercontent.com/SumanGouda/Scikit-Learn-/refs/heads/main/Feature%20Engineering/Data%20Extraction/laptops_new.csv')"
   ]
  },
  {
   "cell_type": "code",
   "execution_count": 36,
   "id": "4232c78d",
   "metadata": {},
   "outputs": [],
   "source": [
    "json =[\n",
    "  { \"id\": 1, \"name\": \"Joe\", \"salary\": 70000, \"managerId\": 3 },\n",
    "  { \"id\": 2, \"name\": \"Henry\", \"salary\": 80000, \"managerId\": 4 },\n",
    "  { \"id\": 3, \"name\": \"Sam\", \"salary\": 60000, \"managerId\": 'null' },\n",
    "  { \"id\": 4, \"name\": \"Max\", \"salary\": 90000, \"managerId\": 'null' }\n",
    "]\n"
   ]
  },
  {
   "cell_type": "code",
   "execution_count": 37,
   "id": "1493ab25",
   "metadata": {},
   "outputs": [
    {
     "data": {
      "text/html": [
       "<div>\n",
       "<style scoped>\n",
       "    .dataframe tbody tr th:only-of-type {\n",
       "        vertical-align: middle;\n",
       "    }\n",
       "\n",
       "    .dataframe tbody tr th {\n",
       "        vertical-align: top;\n",
       "    }\n",
       "\n",
       "    .dataframe thead th {\n",
       "        text-align: right;\n",
       "    }\n",
       "</style>\n",
       "<table border=\"1\" class=\"dataframe\">\n",
       "  <thead>\n",
       "    <tr style=\"text-align: right;\">\n",
       "      <th></th>\n",
       "      <th>id</th>\n",
       "      <th>name</th>\n",
       "      <th>salary</th>\n",
       "      <th>managerId</th>\n",
       "    </tr>\n",
       "  </thead>\n",
       "  <tbody>\n",
       "    <tr>\n",
       "      <th>0</th>\n",
       "      <td>1</td>\n",
       "      <td>Joe</td>\n",
       "      <td>70000</td>\n",
       "      <td>3</td>\n",
       "    </tr>\n",
       "    <tr>\n",
       "      <th>1</th>\n",
       "      <td>2</td>\n",
       "      <td>Henry</td>\n",
       "      <td>80000</td>\n",
       "      <td>4</td>\n",
       "    </tr>\n",
       "    <tr>\n",
       "      <th>2</th>\n",
       "      <td>3</td>\n",
       "      <td>Sam</td>\n",
       "      <td>60000</td>\n",
       "      <td>null</td>\n",
       "    </tr>\n",
       "    <tr>\n",
       "      <th>3</th>\n",
       "      <td>4</td>\n",
       "      <td>Max</td>\n",
       "      <td>90000</td>\n",
       "      <td>null</td>\n",
       "    </tr>\n",
       "  </tbody>\n",
       "</table>\n",
       "</div>"
      ],
      "text/plain": [
       "   id   name  salary managerId\n",
       "0   1    Joe   70000         3\n",
       "1   2  Henry   80000         4\n",
       "2   3    Sam   60000      null\n",
       "3   4    Max   90000      null"
      ]
     },
     "execution_count": 37,
     "metadata": {},
     "output_type": "execute_result"
    }
   ],
   "source": [
    "df = pd.DataFrame(json)\n",
    "df.head()"
   ]
  },
  {
   "cell_type": "code",
   "execution_count": 38,
   "id": "f48da61e",
   "metadata": {},
   "outputs": [
    {
     "data": {
      "text/html": [
       "<div>\n",
       "<style scoped>\n",
       "    .dataframe tbody tr th:only-of-type {\n",
       "        vertical-align: middle;\n",
       "    }\n",
       "\n",
       "    .dataframe tbody tr th {\n",
       "        vertical-align: top;\n",
       "    }\n",
       "\n",
       "    .dataframe thead th {\n",
       "        text-align: right;\n",
       "    }\n",
       "</style>\n",
       "<table border=\"1\" class=\"dataframe\">\n",
       "  <thead>\n",
       "    <tr style=\"text-align: right;\">\n",
       "      <th></th>\n",
       "      <th>id</th>\n",
       "      <th>name</th>\n",
       "      <th>salary</th>\n",
       "      <th>managerId</th>\n",
       "    </tr>\n",
       "  </thead>\n",
       "  <tbody>\n",
       "    <tr>\n",
       "      <th>2</th>\n",
       "      <td>3</td>\n",
       "      <td>Sam</td>\n",
       "      <td>60000</td>\n",
       "      <td>null</td>\n",
       "    </tr>\n",
       "    <tr>\n",
       "      <th>3</th>\n",
       "      <td>4</td>\n",
       "      <td>Max</td>\n",
       "      <td>90000</td>\n",
       "      <td>null</td>\n",
       "    </tr>\n",
       "  </tbody>\n",
       "</table>\n",
       "</div>"
      ],
      "text/plain": [
       "   id name  salary managerId\n",
       "2   3  Sam   60000      null\n",
       "3   4  Max   90000      null"
      ]
     },
     "execution_count": 38,
     "metadata": {},
     "output_type": "execute_result"
    }
   ],
   "source": [
    "emp_df = df[df['managerId'] != 'null']\n",
    "man_df = df[df['managerId'] == 'null']\n",
    "man_df.head()"
   ]
  },
  {
   "cell_type": "code",
   "execution_count": 39,
   "id": "61bf28bc",
   "metadata": {},
   "outputs": [],
   "source": [
    "\n",
    "man_df = man_df.rename(columns={'name': 'name_man', 'salary': 'salary_man'})\n",
    "man_df.drop(columns=['managerId'], inplace=True)\n",
    "new = pd.merge(emp_df, man_df, how='left', left_on='managerId', right_on='id')"
   ]
  },
  {
   "cell_type": "code",
   "execution_count": 40,
   "id": "2785e965",
   "metadata": {},
   "outputs": [
    {
     "data": {
      "text/html": [
       "<div>\n",
       "<style scoped>\n",
       "    .dataframe tbody tr th:only-of-type {\n",
       "        vertical-align: middle;\n",
       "    }\n",
       "\n",
       "    .dataframe tbody tr th {\n",
       "        vertical-align: top;\n",
       "    }\n",
       "\n",
       "    .dataframe thead th {\n",
       "        text-align: right;\n",
       "    }\n",
       "</style>\n",
       "<table border=\"1\" class=\"dataframe\">\n",
       "  <thead>\n",
       "    <tr style=\"text-align: right;\">\n",
       "      <th></th>\n",
       "      <th>id_x</th>\n",
       "      <th>name</th>\n",
       "      <th>salary</th>\n",
       "      <th>managerId</th>\n",
       "      <th>id_y</th>\n",
       "      <th>name_man</th>\n",
       "      <th>salary_man</th>\n",
       "    </tr>\n",
       "  </thead>\n",
       "  <tbody>\n",
       "    <tr>\n",
       "      <th>0</th>\n",
       "      <td>1</td>\n",
       "      <td>Joe</td>\n",
       "      <td>70000</td>\n",
       "      <td>3</td>\n",
       "      <td>3</td>\n",
       "      <td>Sam</td>\n",
       "      <td>60000</td>\n",
       "    </tr>\n",
       "    <tr>\n",
       "      <th>1</th>\n",
       "      <td>2</td>\n",
       "      <td>Henry</td>\n",
       "      <td>80000</td>\n",
       "      <td>4</td>\n",
       "      <td>4</td>\n",
       "      <td>Max</td>\n",
       "      <td>90000</td>\n",
       "    </tr>\n",
       "  </tbody>\n",
       "</table>\n",
       "</div>"
      ],
      "text/plain": [
       "   id_x   name  salary managerId  id_y name_man  salary_man\n",
       "0     1    Joe   70000         3     3      Sam       60000\n",
       "1     2  Henry   80000         4     4      Max       90000"
      ]
     },
     "execution_count": 40,
     "metadata": {},
     "output_type": "execute_result"
    }
   ],
   "source": [
    "new.head()"
   ]
  },
  {
   "cell_type": "code",
   "execution_count": 55,
   "id": "7e5da6a5",
   "metadata": {},
   "outputs": [],
   "source": [
    "fil_df = new[new['salary'] > new['salary_man']][['name']].rename(columns={'name': 'Employee'})"
   ]
  },
  {
   "cell_type": "code",
   "execution_count": 59,
   "id": "06ef1c4a",
   "metadata": {},
   "outputs": [
    {
     "data": {
      "text/html": [
       "<div>\n",
       "<style scoped>\n",
       "    .dataframe tbody tr th:only-of-type {\n",
       "        vertical-align: middle;\n",
       "    }\n",
       "\n",
       "    .dataframe tbody tr th {\n",
       "        vertical-align: top;\n",
       "    }\n",
       "\n",
       "    .dataframe thead th {\n",
       "        text-align: right;\n",
       "    }\n",
       "</style>\n",
       "<table border=\"1\" class=\"dataframe\">\n",
       "  <thead>\n",
       "    <tr style=\"text-align: right;\">\n",
       "      <th></th>\n",
       "      <th>Employee</th>\n",
       "    </tr>\n",
       "  </thead>\n",
       "  <tbody>\n",
       "    <tr>\n",
       "      <th>0</th>\n",
       "      <td>Joe</td>\n",
       "    </tr>\n",
       "  </tbody>\n",
       "</table>\n",
       "</div>"
      ],
      "text/plain": [
       "  Employee\n",
       "0      Joe"
      ]
     },
     "execution_count": 59,
     "metadata": {},
     "output_type": "execute_result"
    }
   ],
   "source": [
    "import pandas as pd\n",
    "\n",
    "def find_employees(employee: pd.DataFrame) -> pd.DataFrame:\n",
    "    df = employee\n",
    "    emp_df = df[df['managerId'] != 'null']\n",
    "    man_df = df[df['managerId'] == 'null']\n",
    "    man_df = man_df.rename(columns={'name': 'name_man', 'salary': 'salary_man'})\n",
    "    man_df.drop(columns=['managerId'], inplace=True)\n",
    "    new = pd.merge(emp_df, man_df, how='left', left_on='managerId', right_on='id')\n",
    "    req_df = new[new['salary'] > new['salary_man']][['name']].rename(columns={'name': 'Employee'})\n",
    "    return req_df\n",
    "\n",
    "find_employees(df)"
   ]
  }
 ],
 "metadata": {
  "kernelspec": {
   "display_name": "Python 3",
   "language": "python",
   "name": "python3"
  },
  "language_info": {
   "codemirror_mode": {
    "name": "ipython",
    "version": 3
   },
   "file_extension": ".py",
   "mimetype": "text/x-python",
   "name": "python",
   "nbconvert_exporter": "python",
   "pygments_lexer": "ipython3",
   "version": "3.11.9"
  }
 },
 "nbformat": 4,
 "nbformat_minor": 5
}
