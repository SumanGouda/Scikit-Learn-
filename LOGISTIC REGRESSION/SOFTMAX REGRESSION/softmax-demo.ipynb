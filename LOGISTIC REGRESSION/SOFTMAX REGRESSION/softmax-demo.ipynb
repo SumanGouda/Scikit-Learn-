{
 "cells": [
  {
   "cell_type": "code",
   "execution_count": 10,
   "id": "3d565b6b",
   "metadata": {},
   "outputs": [],
   "source": [
    "import seaborn as sns\n",
    "from sklearn.preprocessing import LabelEncoder, OneHotEncoder\n",
    "from sklearn.model_selection import train_test_split\n",
    "from sklearn.linear_model import LogisticRegression\n",
    "from sklearn.metrics import accuracy_score,confusion_matrix\n",
    "import pandas as pd\n",
    "import numpy as np\n",
    "import matplotlib.pyplot as plt\n",
    "import warnings \n",
    "warnings.filterwarnings('ignore')"
   ]
  },
  {
   "cell_type": "code",
   "execution_count": 11,
   "id": "e27b18bb",
   "metadata": {},
   "outputs": [],
   "source": [
    "df = sns.load_dataset('iris')"
   ]
  },
  {
   "cell_type": "code",
   "execution_count": 12,
   "id": "3c075b72",
   "metadata": {},
   "outputs": [],
   "source": [
    "df = pd.get_dummies(df, columns=['species'], prefix='species')"
   ]
  },
  {
   "cell_type": "code",
   "execution_count": 13,
   "id": "3f9442ef",
   "metadata": {},
   "outputs": [],
   "source": [
    "# Make the boolean values to numerical value\n",
    "df['species_setosa'] = df['species_setosa'].astype(int)\n",
    "df['species_versicolor'] = df['species_versicolor'].astype(int)\n",
    "df['species_virginica'] = df['species_virginica'].astype(int)"
   ]
  },
  {
   "cell_type": "code",
   "execution_count": 14,
   "id": "fe8a48c8",
   "metadata": {},
   "outputs": [
    {
     "data": {
      "application/vnd.microsoft.datawrangler.viewer.v0+json": {
       "columns": [
        {
         "name": "index",
         "rawType": "int64",
         "type": "integer"
        },
        {
         "name": "sepal_length",
         "rawType": "float64",
         "type": "float"
        },
        {
         "name": "sepal_width",
         "rawType": "float64",
         "type": "float"
        },
        {
         "name": "petal_length",
         "rawType": "float64",
         "type": "float"
        },
        {
         "name": "petal_width",
         "rawType": "float64",
         "type": "float"
        },
        {
         "name": "species_setosa",
         "rawType": "int64",
         "type": "integer"
        },
        {
         "name": "species_versicolor",
         "rawType": "int64",
         "type": "integer"
        },
        {
         "name": "species_virginica",
         "rawType": "int64",
         "type": "integer"
        }
       ],
       "ref": "e32875d6-ff61-4470-a207-8b16dc2b23e7",
       "rows": [
        [
         "0",
         "5.1",
         "3.5",
         "1.4",
         "0.2",
         "1",
         "0",
         "0"
        ],
        [
         "1",
         "4.9",
         "3.0",
         "1.4",
         "0.2",
         "1",
         "0",
         "0"
        ],
        [
         "2",
         "4.7",
         "3.2",
         "1.3",
         "0.2",
         "1",
         "0",
         "0"
        ],
        [
         "3",
         "4.6",
         "3.1",
         "1.5",
         "0.2",
         "1",
         "0",
         "0"
        ],
        [
         "4",
         "5.0",
         "3.6",
         "1.4",
         "0.2",
         "1",
         "0",
         "0"
        ]
       ],
       "shape": {
        "columns": 7,
        "rows": 5
       }
      },
      "text/html": [
       "<div>\n",
       "<style scoped>\n",
       "    .dataframe tbody tr th:only-of-type {\n",
       "        vertical-align: middle;\n",
       "    }\n",
       "\n",
       "    .dataframe tbody tr th {\n",
       "        vertical-align: top;\n",
       "    }\n",
       "\n",
       "    .dataframe thead th {\n",
       "        text-align: right;\n",
       "    }\n",
       "</style>\n",
       "<table border=\"1\" class=\"dataframe\">\n",
       "  <thead>\n",
       "    <tr style=\"text-align: right;\">\n",
       "      <th></th>\n",
       "      <th>sepal_length</th>\n",
       "      <th>sepal_width</th>\n",
       "      <th>petal_length</th>\n",
       "      <th>petal_width</th>\n",
       "      <th>species_setosa</th>\n",
       "      <th>species_versicolor</th>\n",
       "      <th>species_virginica</th>\n",
       "    </tr>\n",
       "  </thead>\n",
       "  <tbody>\n",
       "    <tr>\n",
       "      <th>0</th>\n",
       "      <td>5.1</td>\n",
       "      <td>3.5</td>\n",
       "      <td>1.4</td>\n",
       "      <td>0.2</td>\n",
       "      <td>1</td>\n",
       "      <td>0</td>\n",
       "      <td>0</td>\n",
       "    </tr>\n",
       "    <tr>\n",
       "      <th>1</th>\n",
       "      <td>4.9</td>\n",
       "      <td>3.0</td>\n",
       "      <td>1.4</td>\n",
       "      <td>0.2</td>\n",
       "      <td>1</td>\n",
       "      <td>0</td>\n",
       "      <td>0</td>\n",
       "    </tr>\n",
       "    <tr>\n",
       "      <th>2</th>\n",
       "      <td>4.7</td>\n",
       "      <td>3.2</td>\n",
       "      <td>1.3</td>\n",
       "      <td>0.2</td>\n",
       "      <td>1</td>\n",
       "      <td>0</td>\n",
       "      <td>0</td>\n",
       "    </tr>\n",
       "    <tr>\n",
       "      <th>3</th>\n",
       "      <td>4.6</td>\n",
       "      <td>3.1</td>\n",
       "      <td>1.5</td>\n",
       "      <td>0.2</td>\n",
       "      <td>1</td>\n",
       "      <td>0</td>\n",
       "      <td>0</td>\n",
       "    </tr>\n",
       "    <tr>\n",
       "      <th>4</th>\n",
       "      <td>5.0</td>\n",
       "      <td>3.6</td>\n",
       "      <td>1.4</td>\n",
       "      <td>0.2</td>\n",
       "      <td>1</td>\n",
       "      <td>0</td>\n",
       "      <td>0</td>\n",
       "    </tr>\n",
       "  </tbody>\n",
       "</table>\n",
       "</div>"
      ],
      "text/plain": [
       "   sepal_length  sepal_width  petal_length  petal_width  species_setosa  \\\n",
       "0           5.1          3.5           1.4          0.2               1   \n",
       "1           4.9          3.0           1.4          0.2               1   \n",
       "2           4.7          3.2           1.3          0.2               1   \n",
       "3           4.6          3.1           1.5          0.2               1   \n",
       "4           5.0          3.6           1.4          0.2               1   \n",
       "\n",
       "   species_versicolor  species_virginica  \n",
       "0                   0                  0  \n",
       "1                   0                  0  \n",
       "2                   0                  0  \n",
       "3                   0                  0  \n",
       "4                   0                  0  "
      ]
     },
     "execution_count": 14,
     "metadata": {},
     "output_type": "execute_result"
    }
   ],
   "source": [
    "df.head()"
   ]
  },
  {
   "cell_type": "code",
   "execution_count": 15,
   "id": "a0a2e517",
   "metadata": {},
   "outputs": [],
   "source": [
    "# Split the datasets into 3 different datasets\n",
    "\n",
    "df_setosa = df[['sepal_length','petal_length', 'sepal_width', 'petal_width','species_setosa']]\n",
    "df_versicolor = df[['sepal_length','petal_length', 'sepal_width', 'petal_width','species_versicolor']]\n",
    "df_virginica = df[['sepal_length','petal_length', 'sepal_width', 'petal_width','species_virginica']]"
   ]
  },
  {
   "cell_type": "code",
   "execution_count": 16,
   "id": "aa66fe18",
   "metadata": {},
   "outputs": [
    {
     "name": "stdout",
     "output_type": "stream",
     "text": [
      "Setosa Model:\n",
      "Intercept: 6.689316\n",
      "Coefficient for sepal_length: -0.445651\n",
      "Coefficient for petal_length: -2.320233\n",
      "Coefficient for sepal_width: 0.900546\n",
      "Coefficient for petal_width: -0.981129\n",
      "\n",
      "Versicolor Model:\n",
      "Intercept: 5.585929\n",
      "Coefficient for sepal_length: -0.179175\n",
      "Coefficient for petal_length: 0.696718\n",
      "Coefficient for sepal_width: -2.128785\n",
      "Coefficient for petal_width: -1.275005\n",
      "\n",
      "Virginica Model:\n",
      "Intercept: -14.435983\n",
      "Coefficient for sepal_length: -0.392707\n",
      "Coefficient for petal_length: 2.930641\n",
      "Coefficient for sepal_width: -0.514430\n",
      "Coefficient for petal_width: 2.416088\n",
      "\n"
     ]
    }
   ],
   "source": [
    "# Define feature names for better readability\n",
    "feature_names = ['sepal_length', 'petal_length', 'sepal_width', 'petal_width']\n",
    "\n",
    "# Applying logistical regression over 3 datasets\n",
    "lr_setosa = LogisticRegression()\n",
    "lr_setosa.fit(df_setosa[feature_names], df_setosa['species_setosa'])\n",
    "\n",
    "lr_versicolor = LogisticRegression()\n",
    "lr_versicolor.fit(df_versicolor[feature_names], df_versicolor['species_versicolor'])\n",
    "\n",
    "lr_virginica = LogisticRegression()\n",
    "lr_virginica.fit(df_virginica[feature_names], df_virginica['species_virginica'])\n",
    "\n",
    "# Get coefficients and intercepts for all models\n",
    "def print_model_params(model, model_name, feature_names):\n",
    "    print(f\"{model_name} Model:\")\n",
    "    print(f\"Intercept: {model.intercept_[0]:.6f}\")\n",
    "    for i, feature in enumerate(feature_names):\n",
    "        print(f\"Coefficient for {feature}: {model.coef_[0][i]:.6f}\")\n",
    "    print()\n",
    "\n",
    "print_model_params(lr_setosa, \"Setosa\", feature_names)\n",
    "print_model_params(lr_versicolor, \"Versicolor\", feature_names)\n",
    "print_model_params(lr_virginica, \"Virginica\", feature_names)"
   ]
  },
  {
   "cell_type": "code",
   "execution_count": 17,
   "id": "b20eff93",
   "metadata": {},
   "outputs": [
    {
     "name": "stdout",
     "output_type": "stream",
     "text": [
      "Probability for Setosa: 0.000000\n",
      "Probability for Versicolor: 0.999989\n",
      "Probability for Virginica: 0.000011\n"
     ]
    },
    {
     "data": {
      "text/plain": [
       "'\\n    I know the code was not that nice because i was much focused towards the model so i\\n    did not put much thinking towards the coding part and i do not have strength to make it nicer :)\\n    If you are interested then you can go through the code and make it better.\\n    Thank You!!    \\n'"
      ]
     },
     "execution_count": 17,
     "metadata": {},
     "output_type": "execute_result"
    }
   ],
   "source": [
    "# For any new Point ( 5.1, 6.3 , 3.6, 1.4 ) we can predict which species it belongs to\n",
    "new_point = [[5.1, 6.3 , 3.6, 1.4]]\n",
    "\n",
    "z_setosa = 6.689316 + (-0.445651 * 5.1) + (-2.320233 * 6.3) + (0.900546 * 3.6) + (-0.981129 * 1.4)\n",
    "z_versicolor = 5.585929 + (-0.179175 * 5.1) + (0.696718 * 6.3) + (2.128785 * 3.6) + (-1.275005 * 1.4)\n",
    "z_virginica = -14.435983 + (-0.392707 * 5.1) + (2.930641 * 6.3) + (-0.514430 * 3.6) + (2.416088 * 1.4)\n",
    "\n",
    "\n",
    "prob_z_setosa = np.exp(z_setosa) / (np.exp(z_setosa) + np.exp(z_versicolor) + np.exp(z_virginica))\n",
    "prob_z_versicolor = np.exp(z_versicolor) / (np.exp(z_setosa) + np.exp(z_versicolor) + np.exp(z_virginica))\n",
    "prob_z_virginica = np.exp(z_virginica) / (np.exp(z_setosa) + np.exp(z_versicolor) + np.exp(z_virginica))\n",
    "\n",
    "print(f\"Probability for Setosa: {prob_z_setosa:.6f}\")\n",
    "print(f\"Probability for Versicolor: {prob_z_versicolor:.6f}\")\n",
    "print(f\"Probability for Virginica: {prob_z_virginica:.6f}\")\n",
    "\n",
    "\"\"\"\n",
    "    I know the code was not that nice because i was much focused towards the model so i\n",
    "    did not put much thinking towards the coding part and i do not have strength to make it nicer :)\n",
    "    If you are interested then you can go through the code and make it better.\n",
    "    Thank You!!    \n",
    "\"\"\"\n"
   ]
  },
  {
   "cell_type": "markdown",
   "id": "6be43e8e",
   "metadata": {},
   "source": [
    "**This is how the basic of multinomial regression works but in scikit learn it is little bit different**"
   ]
  },
  {
   "cell_type": "markdown",
   "id": "4e5ee5d3",
   "metadata": {},
   "source": [
    "## Scikit Learn Method"
   ]
  }
 ],
 "metadata": {
  "kernelspec": {
   "display_name": "Python 3",
   "language": "python",
   "name": "python3"
  },
  "language_info": {
   "codemirror_mode": {
    "name": "ipython",
    "version": 3
   },
   "file_extension": ".py",
   "mimetype": "text/x-python",
   "name": "python",
   "nbconvert_exporter": "python",
   "pygments_lexer": "ipython3",
   "version": "3.11.9"
  }
 },
 "nbformat": 4,
 "nbformat_minor": 5
}
