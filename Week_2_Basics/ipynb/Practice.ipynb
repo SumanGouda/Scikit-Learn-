{
 "cells": [
  {
   "cell_type": "markdown",
   "id": "4f04c63c",
   "metadata": {},
   "source": [
    "## Practice Problems "
   ]
  },
  {
   "cell_type": "code",
   "execution_count": 7,
   "id": "74199c26",
   "metadata": {},
   "outputs": [],
   "source": [
    "import numpy as np \n",
    "\n",
    "import matplotlib.pyplot as plt\n",
    "from sklearn.datasets import make_regression\n",
    "from sklearn.model_selection import train_test_split\n",
    "from sklearn.metrics import accuracy_score\n",
    "from sklearn.neighbors import KNeighborsRegressor\n",
    "from sklearn.metrics import mean_squared_error, r2_score\n",
    "from sklearn.neighbors import KNeighborsClassifier\n",
    "import pandas as pd"
   ]
  },
  {
   "cell_type": "markdown",
   "id": "b1b67641",
   "metadata": {},
   "source": [
    "1. Classify \"Pass\" or \"Fail\""
   ]
  },
  {
   "cell_type": "code",
   "execution_count": null,
   "id": "68236cae",
   "metadata": {},
   "outputs": [
    {
     "name": "stdout",
     "output_type": "stream",
     "text": [
      "['Pass']\n"
     ]
    }
   ],
   "source": [
    "# Load the data\n",
    "data = pd.DataFrame({\n",
    "    'hours_studied': [2, 1, 3, 4, 5],\n",
    "    'hours_slept': [9, 5, 6, 8, 5],\n",
    "    'label': ['Fail', 'Fail', 'Pass', 'Pass', 'Pass']\n",
    "})\n",
    "\n",
    "# Train the model\n",
    "model = KNeighborsClassifier(n_neighbors=1)\n",
    "model.fit(data[['hours_studied', 'hours_slept']], data['label'])\n",
    "\n",
    "# Make a prediction\n",
    "prediction = model.predict([[3, 7]])    # Predict method expects a 2D array-like input, where each row represents a single sample.\n",
    "accuracy = model.score([[3, 12]], ['Pass'])\n",
    "print(prediction)"
   ]
  },
  {
   "cell_type": "markdown",
   "id": "37bed17d",
   "metadata": {},
   "source": [
    "2. You’re analyzing data from a marketing campaign. Each row has the following features:\n",
    "- Age\n",
    "- Monthly Income (in thousands ₹)\n",
    "- Time spent on product website (in minutes)\n",
    "- Label: \"Buy\" or \"NoBuy\"\n"
   ]
  },
  {
   "cell_type": "code",
   "execution_count": null,
   "id": "79d61eea",
   "metadata": {},
   "outputs": [
    {
     "name": "stdout",
     "output_type": "stream",
     "text": [
      "['Buy']\n"
     ]
    }
   ],
   "source": [
    "# Load Data\n",
    "training_data = [\n",
    "    [22, 12, 15],\n",
    "    [25, 18, 25],\n",
    "    [27, 25, 35],\n",
    "    [30, 28, 45],\n",
    "    [35, 30, 20],\n",
    "    [40, 35, 30],\n",
    "    [45, 40, 50],\n",
    "    [38, 36, 22],\n",
    "    [29, 22, 38],\n",
    "    [26, 16, 26]\n",
    "]\n",
    "\n",
    "training_labels = [\n",
    "    \"NoBuy\",\n",
    "    \"NoBuy\",\n",
    "    \"Buy\",\n",
    "    \"Buy\",\n",
    "    \"NoBuy\",\n",
    "    \"Buy\",\n",
    "    \"Buy\",\n",
    "    \"NoBuy\",\n",
    "    \"Buy\",\n",
    "    \"NoBuy\"\n",
    "]\n",
    "\n",
    "test_point = [28, 18, 32]\n",
    "\n",
    "# Making Dataframe \n",
    "data = pd.DataFrame(training_data, columns=['Age', 'Income', 'Time on Site'])\n",
    "data['Label'] = training_labels\n",
    "\n",
    "model = KNeighborsClassifier(n_neighbors=2)\n",
    "model.fit(training_data, training_labels)\n",
    "\n",
    "prediction = model.predict([test_point])\n",
    "accuracy = model.score([test_point], ['NoBuy'])\n",
    "print(prediction)"
   ]
  },
  {
   "cell_type": "code",
   "execution_count": 27,
   "id": "1a18ca76",
   "metadata": {},
   "outputs": [
    {
     "name": "stdout",
     "output_type": "stream",
     "text": [
      "[[20.8744113]]\n"
     ]
    }
   ],
   "source": [
    "from sklearn.linear_model import LinearRegression\n",
    "\n",
    "df_advertise = pd.read_csv(r\"D:\\PYTON PROGRAMMING\\PYTHON FILES\\Scikit-Learn\\Week_1_Basics\\advertising.csv\")\n",
    "df_advertise.head()\n",
    "budget_spent = df_advertise.iloc[:, :3].to_numpy()\n",
    "x = budget_spent.reshape(-1,3)\n",
    "y = df_advertise.iloc[:, 3:4].to_numpy()\n",
    "\n",
    "model = LinearRegression()\n",
    "model.fit(x, y)\n",
    "prediction = model.predict(np.array([[200, 50, 30]]))\n",
    "print(prediction)"
   ]
  },
  {
   "cell_type": "code",
   "execution_count": 21,
   "id": "1526052a",
   "metadata": {},
   "outputs": [
    {
     "data": {
      "text/html": [
       "<div>\n",
       "<style scoped>\n",
       "    .dataframe tbody tr th:only-of-type {\n",
       "        vertical-align: middle;\n",
       "    }\n",
       "\n",
       "    .dataframe tbody tr th {\n",
       "        vertical-align: top;\n",
       "    }\n",
       "\n",
       "    .dataframe thead th {\n",
       "        text-align: right;\n",
       "    }\n",
       "</style>\n",
       "<table border=\"1\" class=\"dataframe\">\n",
       "  <thead>\n",
       "    <tr style=\"text-align: right;\">\n",
       "      <th></th>\n",
       "      <th>TV</th>\n",
       "      <th>Radio</th>\n",
       "      <th>Newspaper</th>\n",
       "      <th>Sales</th>\n",
       "    </tr>\n",
       "  </thead>\n",
       "  <tbody>\n",
       "    <tr>\n",
       "      <th>0</th>\n",
       "      <td>230.1</td>\n",
       "      <td>37.8</td>\n",
       "      <td>69.2</td>\n",
       "      <td>22.1</td>\n",
       "    </tr>\n",
       "    <tr>\n",
       "      <th>1</th>\n",
       "      <td>44.5</td>\n",
       "      <td>39.3</td>\n",
       "      <td>45.1</td>\n",
       "      <td>10.4</td>\n",
       "    </tr>\n",
       "    <tr>\n",
       "      <th>2</th>\n",
       "      <td>17.2</td>\n",
       "      <td>45.9</td>\n",
       "      <td>69.3</td>\n",
       "      <td>12.0</td>\n",
       "    </tr>\n",
       "    <tr>\n",
       "      <th>3</th>\n",
       "      <td>151.5</td>\n",
       "      <td>41.3</td>\n",
       "      <td>58.5</td>\n",
       "      <td>16.5</td>\n",
       "    </tr>\n",
       "    <tr>\n",
       "      <th>4</th>\n",
       "      <td>180.8</td>\n",
       "      <td>10.8</td>\n",
       "      <td>58.4</td>\n",
       "      <td>17.9</td>\n",
       "    </tr>\n",
       "  </tbody>\n",
       "</table>\n",
       "</div>"
      ],
      "text/plain": [
       "      TV  Radio  Newspaper  Sales\n",
       "0  230.1   37.8       69.2   22.1\n",
       "1   44.5   39.3       45.1   10.4\n",
       "2   17.2   45.9       69.3   12.0\n",
       "3  151.5   41.3       58.5   16.5\n",
       "4  180.8   10.8       58.4   17.9"
      ]
     },
     "execution_count": 21,
     "metadata": {},
     "output_type": "execute_result"
    }
   ],
   "source": [
    "df_advertise.head()"
   ]
  },
  {
   "cell_type": "markdown",
   "id": "52d42f01",
   "metadata": {},
   "source": [
    "## Car Dataset "
   ]
  },
  {
   "cell_type": "code",
   "execution_count": null,
   "id": "4d058075",
   "metadata": {},
   "outputs": [
    {
     "data": {
      "text/html": [
       "<div>\n",
       "<style scoped>\n",
       "    .dataframe tbody tr th:only-of-type {\n",
       "        vertical-align: middle;\n",
       "    }\n",
       "\n",
       "    .dataframe tbody tr th {\n",
       "        vertical-align: top;\n",
       "    }\n",
       "\n",
       "    .dataframe thead th {\n",
       "        text-align: right;\n",
       "    }\n",
       "</style>\n",
       "<table border=\"1\" class=\"dataframe\">\n",
       "  <thead>\n",
       "    <tr style=\"text-align: right;\">\n",
       "      <th></th>\n",
       "      <th>horsepower</th>\n",
       "      <th>peakrpm</th>\n",
       "      <th>price</th>\n",
       "    </tr>\n",
       "  </thead>\n",
       "  <tbody>\n",
       "    <tr>\n",
       "      <th>0</th>\n",
       "      <td>111</td>\n",
       "      <td>5000</td>\n",
       "      <td>13495.0</td>\n",
       "    </tr>\n",
       "    <tr>\n",
       "      <th>1</th>\n",
       "      <td>111</td>\n",
       "      <td>5000</td>\n",
       "      <td>16500.0</td>\n",
       "    </tr>\n",
       "    <tr>\n",
       "      <th>2</th>\n",
       "      <td>154</td>\n",
       "      <td>5000</td>\n",
       "      <td>16500.0</td>\n",
       "    </tr>\n",
       "    <tr>\n",
       "      <th>3</th>\n",
       "      <td>102</td>\n",
       "      <td>5500</td>\n",
       "      <td>13950.0</td>\n",
       "    </tr>\n",
       "    <tr>\n",
       "      <th>4</th>\n",
       "      <td>115</td>\n",
       "      <td>5500</td>\n",
       "      <td>17450.0</td>\n",
       "    </tr>\n",
       "    <tr>\n",
       "      <th>...</th>\n",
       "      <td>...</td>\n",
       "      <td>...</td>\n",
       "      <td>...</td>\n",
       "    </tr>\n",
       "    <tr>\n",
       "      <th>200</th>\n",
       "      <td>114</td>\n",
       "      <td>5400</td>\n",
       "      <td>16845.0</td>\n",
       "    </tr>\n",
       "    <tr>\n",
       "      <th>201</th>\n",
       "      <td>160</td>\n",
       "      <td>5300</td>\n",
       "      <td>19045.0</td>\n",
       "    </tr>\n",
       "    <tr>\n",
       "      <th>202</th>\n",
       "      <td>134</td>\n",
       "      <td>5500</td>\n",
       "      <td>21485.0</td>\n",
       "    </tr>\n",
       "    <tr>\n",
       "      <th>203</th>\n",
       "      <td>106</td>\n",
       "      <td>4800</td>\n",
       "      <td>22470.0</td>\n",
       "    </tr>\n",
       "    <tr>\n",
       "      <th>204</th>\n",
       "      <td>114</td>\n",
       "      <td>5400</td>\n",
       "      <td>22625.0</td>\n",
       "    </tr>\n",
       "  </tbody>\n",
       "</table>\n",
       "<p>205 rows × 3 columns</p>\n",
       "</div>"
      ],
      "text/plain": [
       "     horsepower  peakrpm    price\n",
       "0           111     5000  13495.0\n",
       "1           111     5000  16500.0\n",
       "2           154     5000  16500.0\n",
       "3           102     5500  13950.0\n",
       "4           115     5500  17450.0\n",
       "..          ...      ...      ...\n",
       "200         114     5400  16845.0\n",
       "201         160     5300  19045.0\n",
       "202         134     5500  21485.0\n",
       "203         106     4800  22470.0\n",
       "204         114     5400  22625.0\n",
       "\n",
       "[205 rows x 3 columns]"
      ]
     },
     "execution_count": 6,
     "metadata": {},
     "output_type": "execute_result"
    }
   ],
   "source": [
    "df = pd.read_csv(r\"D:\\PYTON PROGRAMMING\\PYTHON FILES\\Scikit-Learn\\Week_1_Basics\\CarPrice.csv\")\n"
   ]
  },
  {
   "cell_type": "markdown",
   "id": "591d16fc",
   "metadata": {},
   "source": [
    "#### Predict the car price based on the horsepower "
   ]
  },
  {
   "cell_type": "markdown",
   "id": "41b5ef71",
   "metadata": {},
   "source": []
  }
 ],
 "metadata": {
  "kernelspec": {
   "display_name": "Python 3",
   "language": "python",
   "name": "python3"
  },
  "language_info": {
   "codemirror_mode": {
    "name": "ipython",
    "version": 3
   },
   "file_extension": ".py",
   "mimetype": "text/x-python",
   "name": "python",
   "nbconvert_exporter": "python",
   "pygments_lexer": "ipython3",
   "version": "3.11.9"
  }
 },
 "nbformat": 4,
 "nbformat_minor": 5
}
