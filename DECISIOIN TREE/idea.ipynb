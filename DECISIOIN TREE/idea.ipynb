{
 "cells": [
  {
   "cell_type": "markdown",
   "id": "2c800296",
   "metadata": {},
   "source": [
    "# 🌳 Decision Tree Streamlit App - Complete Implementation Guide\n",
    "\n",
    "## 🎯 **Project Overview**\n",
    "Build an interactive web application for visualizing Decision Tree algorithms with comprehensive features for data exploration, model training, and visualization.\n",
    "\n",
    "## 📊 **Core Features**\n",
    "\n",
    "### 1. **Data Input & Management**\n",
    "- **CSV file upload** with drag & drop interface\n",
    "- **Built-in datasets**: Iris, Wine, Breast Cancer, Diabetes, Titanic\n",
    "- **Data preview** with head/tail options\n",
    "- **Automatic data type detection**\n",
    "- **Missing value handling** options\n",
    "- **Data statistics** display\n",
    "\n",
    "### 2. **Feature Selection**\n",
    "- **Multi-select feature picker** (2-10 features recommended)\n",
    "- **Target variable dropdown**\n",
    "- **Feature description tooltips**\n",
    "- **Correlation matrix** visualization\n",
    "- **Feature distribution** histograms\n",
    "\n",
    "### 3. **Model Configuration**\n",
    "#### Algorithm Type\n",
    "- **Auto-detect** classification vs regression\n",
    "- **Manual mode selection**\n",
    "\n",
    "#### Hyperparameters Panel\n",
    "```python\n",
    "# Tree Structure\n",
    "- max_depth: 1-20 (slider)\n",
    "- min_samples_split: 2-20 (slider)\n",
    "- min_samples_leaf: 1-20 (slider)\n",
    "\n",
    "# Splitting Criteria\n",
    "- criterion: gini/entropy (classification), mse/mae (regression)\n",
    "- max_features: sqrt, log2, None, custom\n",
    "\n",
    "# Advanced Options\n",
    "- random_state: number input\n",
    "- ccp_alpha: 0-0.1 (pruning)\n",
    "- class_weight: balanced, None"
   ]
  },
  {
   "cell_type": "markdown",
   "id": "7a1396e3",
   "metadata": {},
   "source": []
  },
  {
   "cell_type": "code",
   "execution_count": 1,
   "id": "89651077",
   "metadata": {},
   "outputs": [],
   "source": [
    "import numpy as np\n",
    "import pandas as pd"
   ]
  },
  {
   "cell_type": "code",
   "execution_count": 8,
   "id": "28bdcc19",
   "metadata": {},
   "outputs": [],
   "source": [
    "from sklearn.datasets import load_iris\n",
    "\n",
    "iris = load_iris()\n",
    "new_df = pd.DataFrame(iris.data, columns=iris.feature_names)\n",
    "new_df['target'] = iris.target"
   ]
  },
  {
   "cell_type": "code",
   "execution_count": null,
   "id": "de7944ac",
   "metadata": {},
   "outputs": [],
   "source": [
    "new_df"
   ]
  },
  {
   "cell_type": "code",
   "execution_count": 11,
   "id": "1a577732",
   "metadata": {},
   "outputs": [
    {
     "data": {
      "text/plain": [
       "[np.float64(5.550000000000001),\n",
       " np.float64(6.1),\n",
       " np.float64(7.05),\n",
       " np.float64(6.5),\n",
       " np.float64(6.25),\n",
       " np.float64(6.45)]"
      ]
     },
     "execution_count": 11,
     "metadata": {},
     "output_type": "execute_result"
    }
   ],
   "source": [
    "feature1 = 'sepal length (cm)'\n",
    "feature2 = 'target'\n",
    "df = new_df.copy()\n",
    "splitting_points = []\n",
    "\n",
    "while len(df) > 20:\n",
    "    error = {}\n",
    "    \n",
    "    # Calculate errors for all possible splits\n",
    "    for i in range(len(df) - 1):\n",
    "        avg_x = (df[feature1].iloc[i] + df[feature1].iloc[i + 1]) / 2\n",
    "        above_rows = df[df[feature1] > avg_x]\n",
    "        below_rows = df[df[feature1] <= avg_x]\n",
    "        \n",
    "        if len(above_rows) > 0 and len(below_rows) > 0:\n",
    "            sse_above = np.sum(np.square(above_rows[feature2] - np.mean(above_rows[feature2])))\n",
    "            sse_below = np.sum(np.square(below_rows[feature2] - np.mean(below_rows[feature2])))\n",
    "            total_sse = sse_above + sse_below\n",
    "            error[avg_x] = total_sse\n",
    "    \n",
    "    if error:  # Only if we found valid splits\n",
    "        best_split = min(error, key=error.get)\n",
    "        splitting_points.append(best_split)\n",
    "        \n",
    "        # Decide which branch to follow (you need to implement proper tree logic)\n",
    "        # For now, let's follow the larger branch\n",
    "        left_count = len(df[df[feature1] <= best_split])\n",
    "        right_count = len(df[df[feature1] > best_split])\n",
    "        \n",
    "        if left_count > right_count:\n",
    "            df = df[df[feature1] <= best_split]\n",
    "        else:\n",
    "            df = df[df[feature1] > best_split]\n",
    "    else:\n",
    "        break  # No more valid splits\n",
    "\n",
    "splitting_points"
   ]
  },
  {
   "cell_type": "code",
   "execution_count": null,
   "id": "e3f500c3",
   "metadata": {},
   "outputs": [],
   "source": []
  }
 ],
 "metadata": {
  "kernelspec": {
   "display_name": "Python 3",
   "language": "python",
   "name": "python3"
  },
  "language_info": {
   "codemirror_mode": {
    "name": "ipython",
    "version": 3
   },
   "file_extension": ".py",
   "mimetype": "text/x-python",
   "name": "python",
   "nbconvert_exporter": "python",
   "pygments_lexer": "ipython3",
   "version": "3.11.9"
  }
 },
 "nbformat": 4,
 "nbformat_minor": 5
}
