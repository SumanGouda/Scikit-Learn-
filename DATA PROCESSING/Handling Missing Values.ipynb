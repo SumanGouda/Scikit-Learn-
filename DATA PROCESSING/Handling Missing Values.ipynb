{
 "cells": [
  {
   "cell_type": "markdown",
   "id": "d2b47d37",
   "metadata": {},
   "source": [
    "## Complete Case Analysis (CCA)\n",
    "<mark>This technique is not used that often because of many reasons, one of the most crucial reason is <i>When using our models in production, hte model will not know how to handle with the missing data.</i> </mark>\n",
    "<br>\n",
    "<br>\n",
    "**Where do we use it :**\n",
    "* Your data is missing completly at random. <mark>(MCAR)</mark>\n",
    "* Generally if the missing data is less than 5% in that column.\n",
    "<br>\n",
    "<br>\n",
    "> Syntax : df.dropna()"
   ]
  },
  {
   "cell_type": "markdown",
   "id": "1c91966e",
   "metadata": {},
   "source": [
    "## Univeriate Imputation\n",
    "#### Advantages\n",
    "- **Simple to implement**: Univariate imputation is a straightforward method that can be easily implemented in most programming languages.  \n",
    "- **Fast computation**: Univariate imputation is computationally efficient and can handle large datasets quickly.  \n",
    "- **Easy to interpret**: The results of univariate imputation are easy to understand and interpret.  \n",
    "\n",
    "#### Disadvantages  \n",
    "- **Assumes independence**: Univariate imputation assumes that the missing values are independent of the other variables, which may not always be the case.  \n",
    "- **Ignores relationships**: Univariate imputation ignores the relationships between variables, which can lead to biased estimates.  \n",
    "- **May not handle non-normal data**: Univariate imputation assumes normality of the data, which may not be true for all datasets.  \n",
    "- **Can lead to over-imputation**: Univariate imputation can lead to over-imputation, where the same value is imputed for multiple missing values.  "
   ]
  },
  {
   "cell_type": "code",
   "execution_count": 21,
   "id": "f802a032",
   "metadata": {},
   "outputs": [],
   "source": [
    "import pandas as pd \n",
    "import numpy as np\n",
    "import matplotlib.pyplot as plt\n",
    "import seaborn as sns\n",
    "import warnings\n",
    "warnings.filterwarnings('ignore')"
   ]
  },
  {
   "cell_type": "code",
   "execution_count": 22,
   "id": "d5db9efd",
   "metadata": {},
   "outputs": [],
   "source": [
    "from sklearn.model_selection import train_test_split\n",
    "from sklearn.impute import SimpleImputer    \n",
    "from sklearn.compose import ColumnTransformer  "
   ]
  },
  {
   "cell_type": "code",
   "execution_count": 23,
   "id": "3d8e7e06",
   "metadata": {},
   "outputs": [],
   "source": [
    "df = pd.read_csv('https://raw.githubusercontent.com/campusx-official/100-days-of-machine-learning/refs/heads/main/day36-imputing-numerical-data/titanic_toy.csv')"
   ]
  },
  {
   "cell_type": "code",
   "execution_count": 24,
   "id": "837ce8ef",
   "metadata": {},
   "outputs": [
    {
     "data": {
      "application/vnd.microsoft.datawrangler.viewer.v0+json": {
       "columns": [
        {
         "name": "index",
         "rawType": "object",
         "type": "string"
        },
        {
         "name": "0",
         "rawType": "float64",
         "type": "float"
        }
       ],
       "ref": "a178b690-56ce-4598-bc12-5a95248c744f",
       "rows": [
        [
         "Age",
         "19.865319865319865"
        ],
        [
         "Fare",
         "5.05050505050505"
        ],
        [
         "Family",
         "0.0"
        ],
        [
         "Survived",
         "0.0"
        ]
       ],
       "shape": {
        "columns": 1,
        "rows": 4
       }
      },
      "text/plain": [
       "Age         19.865320\n",
       "Fare         5.050505\n",
       "Family       0.000000\n",
       "Survived     0.000000\n",
       "dtype: float64"
      ]
     },
     "execution_count": 24,
     "metadata": {},
     "output_type": "execute_result"
    }
   ],
   "source": [
    "df.isnull().mean() * 100"
   ]
  },
  {
   "cell_type": "code",
   "execution_count": 25,
   "id": "6c1d6032",
   "metadata": {},
   "outputs": [],
   "source": [
    "X = df.drop(columns=['Survived'])\n",
    "y = df['Survived']\n",
    "X_train, X_test, y_train, y_test = train_test_split(X, y, test_size=0.2, random_state=42)"
   ]
  },
  {
   "cell_type": "code",
   "execution_count": 26,
   "id": "3dff453d",
   "metadata": {},
   "outputs": [],
   "source": [
    "imputer1 = SimpleImputer(strategy='median')\n",
    "imputer2 = SimpleImputer(strategy='mean')\n",
    "\n",
    "trf1 = ColumnTransformer([\n",
    "    ('imputer1', imputer1, ['Age']),\n",
    "    ('imputer2', imputer2, ['Fare'])\n",
    "],remainder='passthrough')\n",
    "\n",
    "X_train_transformed = trf1.fit_transform(X_train)\n",
    "X_test_transformed = trf1.transform(X_test)\n",
    "\n",
    "# Make DataFrame from transformed data\n",
    "transformed_df = pd.DataFrame(X_train_transformed, columns=['Age', 'Fare', 'Family'])\n",
    "trained_df = pd.DataFrame(X_train, columns=['Age', 'Fare', 'Family'])\n",
    "\n"
   ]
  },
  {
   "cell_type": "code",
   "execution_count": 27,
   "id": "f4bb4a24",
   "metadata": {},
   "outputs": [
    {
     "data": {
      "application/vnd.microsoft.datawrangler.viewer.v0+json": {
       "columns": [
        {
         "name": "index",
         "rawType": "int64",
         "type": "integer"
        },
        {
         "name": "Age",
         "rawType": "float64",
         "type": "float"
        },
        {
         "name": "Fare",
         "rawType": "float64",
         "type": "float"
        },
        {
         "name": "Family",
         "rawType": "int64",
         "type": "integer"
        }
       ],
       "ref": "8d25b404-c4f8-4e9a-ba06-d6529649651a",
       "rows": [
        [
         "331",
         "45.5",
         "28.5",
         "0"
        ],
        [
         "733",
         "23.0",
         "13.0",
         "0"
        ],
        [
         "382",
         "32.0",
         "7.925",
         "0"
        ],
        [
         "704",
         "26.0",
         "7.8542",
         "1"
        ],
        [
         "813",
         "6.0",
         "31.275",
         "6"
        ]
       ],
       "shape": {
        "columns": 3,
        "rows": 5
       }
      },
      "text/html": [
       "<div>\n",
       "<style scoped>\n",
       "    .dataframe tbody tr th:only-of-type {\n",
       "        vertical-align: middle;\n",
       "    }\n",
       "\n",
       "    .dataframe tbody tr th {\n",
       "        vertical-align: top;\n",
       "    }\n",
       "\n",
       "    .dataframe thead th {\n",
       "        text-align: right;\n",
       "    }\n",
       "</style>\n",
       "<table border=\"1\" class=\"dataframe\">\n",
       "  <thead>\n",
       "    <tr style=\"text-align: right;\">\n",
       "      <th></th>\n",
       "      <th>Age</th>\n",
       "      <th>Fare</th>\n",
       "      <th>Family</th>\n",
       "    </tr>\n",
       "  </thead>\n",
       "  <tbody>\n",
       "    <tr>\n",
       "      <th>331</th>\n",
       "      <td>45.5</td>\n",
       "      <td>28.5000</td>\n",
       "      <td>0</td>\n",
       "    </tr>\n",
       "    <tr>\n",
       "      <th>733</th>\n",
       "      <td>23.0</td>\n",
       "      <td>13.0000</td>\n",
       "      <td>0</td>\n",
       "    </tr>\n",
       "    <tr>\n",
       "      <th>382</th>\n",
       "      <td>32.0</td>\n",
       "      <td>7.9250</td>\n",
       "      <td>0</td>\n",
       "    </tr>\n",
       "    <tr>\n",
       "      <th>704</th>\n",
       "      <td>26.0</td>\n",
       "      <td>7.8542</td>\n",
       "      <td>1</td>\n",
       "    </tr>\n",
       "    <tr>\n",
       "      <th>813</th>\n",
       "      <td>6.0</td>\n",
       "      <td>31.2750</td>\n",
       "      <td>6</td>\n",
       "    </tr>\n",
       "  </tbody>\n",
       "</table>\n",
       "</div>"
      ],
      "text/plain": [
       "      Age     Fare  Family\n",
       "331  45.5  28.5000       0\n",
       "733  23.0  13.0000       0\n",
       "382  32.0   7.9250       0\n",
       "704  26.0   7.8542       1\n",
       "813   6.0  31.2750       6"
      ]
     },
     "execution_count": 27,
     "metadata": {},
     "output_type": "execute_result"
    }
   ],
   "source": [
    "trained_df.head()"
   ]
  },
  {
   "cell_type": "code",
   "execution_count": 44,
   "id": "df9b753a",
   "metadata": {},
   "outputs": [
    {
     "data": {
      "image/png": "[encoded data removed]",
      "text/plain": [
       "<Figure size 1000x800 with 4 Axes>"
      ]
     },
     "metadata": {},
     "output_type": "display_data"
    }
   ],
   "source": [
    "sns.set(style=\"whitegrid\")\n",
    "\n",
    "# Create a figure with four subplots (2 rows, 2 columns)\n",
    "plt.figure(figsize=(10, 8))  # Adjusted figure size for 4 plots\n",
    "\n",
    "# First subplot: Age before imputation\n",
    "plt.subplot(2, 2, 1)  # 2 rows, 2 columns, first plot\n",
    "sns.boxplot(data=trained_df, y='Age', width=0.2)\n",
    "plt.title('Box Plot of Age (Before Imputation)', fontsize=10)\n",
    "\n",
    "# Second subplot: Age after imputation\n",
    "plt.subplot(2, 2, 2)  # 2 rows, 2 columns, second plot\n",
    "sns.boxplot(data=transformed_df, y='Age', width=0.2)\n",
    "plt.title('Box Plot of Age (After Imputation)', fontsize=10)\n",
    "\n",
    "# Third subplot: Fare before imputation\n",
    "plt.subplot(2, 2, 3)  # 2 rows, 2 columns, third plot\n",
    "sns.boxplot(data=trained_df, y='Fare', width=0.2)\n",
    "plt.title('Box Plot of Fare (Before Imputation)', fontsize=10)\n",
    "\n",
    "# Fourth subplot: Fare after imputation\n",
    "plt.subplot(2, 2, 4)  # 2 rows, 2 columns, fourth plot\n",
    "sns.boxplot(data=transformed_df, y='Fare', width=0.2)\n",
    "plt.title('Box Plot of Fare (After Imputation)', fontsize=10)\n",
    "\n",
    "# Adjust layout to prevent overlap\n",
    "plt.tight_layout()\n",
    "plt.show()"
   ]
  }
 ],
 "metadata": {
  "kernelspec": {
   "display_name": "Python 3",
   "language": "python",
   "name": "python3"
  },
  "language_info": {
   "codemirror_mode": {
    "name": "ipython",
    "version": 3
   },
   "file_extension": ".py",
   "mimetype": "text/x-python",
   "name": "python",
   "nbconvert_exporter": "python",
   "pygments_lexer": "ipython3",
   "version": "3.11.9"
  }
 },
 "nbformat": 4,
 "nbformat_minor": 5
}
