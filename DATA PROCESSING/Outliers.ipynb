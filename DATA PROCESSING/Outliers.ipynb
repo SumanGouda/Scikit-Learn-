{
 "cells": [
  {
   "cell_type": "markdown",
   "id": "57bf052a",
   "metadata": {},
   "source": [
    "## What is Outliers ?\n",
    "#### Outliers in Datasets\n",
    "\n",
    "Outliers are data points that are significantly different from other data points in a dataset. They are values that are far away from the mean or median of the data, and can be considered unusual or anomalous.\n",
    "\n",
    "#### Types of Outliers\n",
    "\n",
    "There are two types of outliers:\n",
    "\n",
    "* **Univariate outliers**: These are data points that are far away from the mean or median of a single variable.\n",
    "* **Multivariate outliers**: These are data points that are far away from the centroid (mean or median) of multiple variables.\n",
    "\n",
    "#### Causes of Outliers\n",
    "\n",
    "Outliers can be caused by various factors, including:\n",
    "\n",
    "* **Measurement errors**: Incorrect or imprecise measurements can lead to outliers.\n",
    "* **Data entry errors**: Typos or incorrect data entry can result in outliers.\n",
    "* **Sampling errors**: Sampling biases or errors can lead to outliers.\n",
    "* **Natural variability**: Some datasets may naturally have outliers due to the underlying distribution of the data.\n",
    "\n",
    "#### Effects of Outliers\n",
    "\n",
    "Outliers can have a significant impact on statistical analysis and modeling, including:\n",
    "\n",
    "* **Skewed results**: Outliers can skew the results of statistical tests and models, leading to incorrect conclusions.\n",
    "* **Increased variance**: Outliers can increase the variance of the data, making it more difficult to model.\n",
    "* **Poor model fit**: Outliers can lead to poor model fit, as models may not be able to capture the underlying patterns in the data.\n",
    "\n",
    "#### Detecting Outliers\n",
    "\n",
    "There are various methods for detecting outliers, including:\n",
    "\n",
    "* **Visual inspection**: Plotting the data to visually identify outliers.\n",
    "* **Statistical methods**: Using statistical tests, such as the Z-score or Modified Z-score, to identify outliers.\n",
    "* **Distance-based methods**: Using distance-based measures, such as the Mahalanobis distance, to identify outliers.\n",
    "\n",
    "#### Handling Outliers\n",
    "\n",
    "Once outliers are detected, they can be handled in various ways, including:\n",
    "\n",
    "* **Removing outliers**: Removing outliers from the dataset to prevent them from skewing the results.\n",
    "* **Transforming data**: Transforming the data to reduce the impact of outliers.\n",
    "* **Using robust methods**: Using robust statistical methods that are resistant to outliers."
   ]
  },
  {
   "cell_type": "code",
   "execution_count": null,
   "id": "8fbbb996",
   "metadata": {},
   "outputs": [],
   "source": []
  }
 ],
 "metadata": {
  "language_info": {
   "name": "python"
  }
 },
 "nbformat": 4,
 "nbformat_minor": 5
}
