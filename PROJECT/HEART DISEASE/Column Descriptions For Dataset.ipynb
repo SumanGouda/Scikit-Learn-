{
 "cells": [
  {
   "cell_type": "markdown",
   "id": "b2485f38",
   "metadata": {},
   "source": [
    "### Column Descriptions for `heart_disease_uci.csv` Dataset\n",
    "\n",
    "| Column Name   | Description                                                                                                   | Possible Values/Notes                                                                                     |\n",
    "|---------------|---------------------------------------------------------------------------------------------------------------|----------------------------------------------------------------------------------------------------------|\n",
    "| **`dataset`** | Source or origin of the data.                                                                                 | `Cleveland`, `Hungary`, `Switzerland`, `VA Long Beach` (different contributing institutions).            |\n",
    "| **`cp`**      | Type of chest pain experienced.                                                                               | - `typical angina` (classic heart pain)<br>- `atypical angina` (non-classic symptoms)<br>- `non-anginal` (non-heart-related pain)<br>- `asymptomatic` (no pain). |\n",
    "| **`trestbps`**| Resting blood pressure (mmHg) at admission.                                                                   | Normal range: 90–120 mmHg. High values may indicate hypertension.                                        |\n",
    "| **`chol`**    | Serum cholesterol level (mg/dL).                                                                              | Desirable: < 200 mg/dL; High: ≥ 240 mg/dL.                                                               |\n",
    "| **`fbs`**     | Fasting blood sugar > 120 mg/dL (potential diabetes indicator).                                               | Boolean: `TRUE` (high) or `FALSE` (normal).                                                              |\n",
    "| **`restecg`** | Resting electrocardiogram results.                                                                            | - `normal`<br>- `st-t abnormality` (possible ischemia)<br>- `lv hypertrophy` (thickened heart muscle).   |\n",
    "| **`thalch`**  | Maximum heart rate achieved during exercise (BPM).                                                            | Lower values may indicate poor cardiovascular fitness.                                                   |\n",
    "| **`exang`**   | Exercise-induced angina (chest pain during exercise).                                                         | Boolean: `TRUE` (pain present) or `FALSE` (no pain).                                                     |\n",
    "| **`oldpeak`** | ST segment depression induced by exercise (ECG change).                                                       | Higher values (e.g., > 1 mm) suggest coronary artery disease.                                            |\n",
    "| **`slope`**   | Slope of the peak exercise ST segment (ECG trend).                                                            | - `upsloping` (normal)<br>- `flat` (possible ischemia)<br>- `downsloping` (strong disease indicator).    |\n",
    "| **`ca`**      | Number of major vessels (0–3) with blockages visible via fluoroscopy.                                         | Higher values = more blockages. Missing values may appear as `?` or empty.                              |\n",
    "| **`thal`**    | Thalassemia stress test result (blood disorder linked to heart issues).                                       | - `normal`<br>- `fixed defect` (permanent issue)<br>- `reversable defect` (temporary ischemia).          |\n",
    "| **`num`**     | Diagnosis of heart disease severity (target variable).                                                        | - `0`: No disease<br>- `1-4`: Increasing severity (e.g., `4` = severe disease).                          |\n",
    "\n",
    "### Notes:\n",
    "- Missing values may appear as empty strings, `?`, or `NA`.\n",
    "- Columns like `id` and `age` are self-explanatory (patient identifier and age in years).\n",
    "- The dataset combines clinical and exercise test results to predict heart disease (`num`)."
   ]
  }
 ],
 "metadata": {
  "language_info": {
   "name": "python"
  }
 },
 "nbformat": 4,
 "nbformat_minor": 5
}
