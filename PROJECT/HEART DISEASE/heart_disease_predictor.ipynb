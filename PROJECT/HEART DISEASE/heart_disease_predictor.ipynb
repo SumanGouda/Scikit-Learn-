{
 "cells": [
  {
   "cell_type": "code",
   "execution_count": 2,
   "id": "78b7a671",
   "metadata": {},
   "outputs": [],
   "source": [
    "import pandas as pd \n",
    "import numpy as np \n",
    "import matplotlib.pyplot as plt\n",
    "import seaborn as sns\n",
    "from warnings import filterwarnings\n",
    "filterwarnings('ignore')"
   ]
  },
  {
   "cell_type": "code",
   "execution_count": 3,
   "id": "fb0d9672",
   "metadata": {},
   "outputs": [],
   "source": [
    "df = pd.read_csv('https://raw.githubusercontent.com/SumanGouda/Scikit-Learn-/refs/heads/main/PROJECT/HEART%20DISEASE/heart_disease_uci.csv')"
   ]
  },
  {
   "cell_type": "code",
   "execution_count": 42,
   "id": "7752dda4",
   "metadata": {},
   "outputs": [],
   "source": [
    "df['chol'] = df['chol'].replace(0, np.nan)"
   ]
  },
  {
   "cell_type": "markdown",
   "id": "6acdef2c",
   "metadata": {},
   "source": [
    "### <span style=\"color:cyan\"><i>Data Cleaning</i></span>"
   ]
  },
  {
   "cell_type": "code",
   "execution_count": 4,
   "id": "09ed00fa",
   "metadata": {},
   "outputs": [
    {
     "data": {
      "application/vnd.microsoft.datawrangler.viewer.v0+json": {
       "columns": [
        {
         "name": "index",
         "rawType": "object",
         "type": "string"
        },
        {
         "name": "0",
         "rawType": "float64",
         "type": "float"
        }
       ],
       "ref": "441bf56b-13df-4506-99ae-98f9e071db9f",
       "rows": [
        [
         "id",
         "0.0"
        ],
        [
         "age",
         "0.0"
        ],
        [
         "sex",
         "0.0"
        ],
        [
         "dataset",
         "0.0"
        ],
        [
         "cp",
         "0.0"
        ],
        [
         "trestbps",
         "6.41304347826087"
        ],
        [
         "chol",
         "3.260869565217391"
        ],
        [
         "fbs",
         "9.782608695652174"
        ],
        [
         "restecg",
         "0.21739130434782608"
        ],
        [
         "thalch",
         "5.978260869565218"
        ],
        [
         "exang",
         "5.978260869565218"
        ],
        [
         "oldpeak",
         "6.739130434782608"
        ],
        [
         "slope",
         "33.58695652173913"
        ],
        [
         "ca",
         "66.41304347826087"
        ],
        [
         "thal",
         "52.826086956521735"
        ],
        [
         "num",
         "0.0"
        ]
       ],
       "shape": {
        "columns": 1,
        "rows": 16
       }
      },
      "text/plain": [
       "id           0.000000\n",
       "age          0.000000\n",
       "sex          0.000000\n",
       "dataset      0.000000\n",
       "cp           0.000000\n",
       "trestbps     6.413043\n",
       "chol         3.260870\n",
       "fbs          9.782609\n",
       "restecg      0.217391\n",
       "thalch       5.978261\n",
       "exang        5.978261\n",
       "oldpeak      6.739130\n",
       "slope       33.586957\n",
       "ca          66.413043\n",
       "thal        52.826087\n",
       "num          0.000000\n",
       "dtype: float64"
      ]
     },
     "execution_count": 4,
     "metadata": {},
     "output_type": "execute_result"
    }
   ],
   "source": [
    "# Percentage data missing from each column: \n",
    "total = (df.isnull().sum() / len(df)) * 100 \n",
    "\n",
    "categorical_cols = ['sex', 'dataset', 'cp', 'fbs', 'restecg', 'exang', 'slope', 'thal']\n",
    "numerical_cols = ['age', 'trestbps', 'chol', 'thalch', 'oldpeak', 'ca']\n",
    "\n",
    "total\n"
   ]
  },
  {
   "cell_type": "code",
   "execution_count": 5,
   "id": "b770f19c",
   "metadata": {},
   "outputs": [],
   "source": [
    "from sklearn.model_selection import train_test_split\n",
    "from sklearn.linear_model import LogisticRegression\n",
    "from sklearn.metrics import accuracy_score  \n",
    "from sklearn.impute import SimpleImputer\n",
    "from sklearn.impute import KNNImputer\n",
    "from sklearn.compose import ColumnTransformer"
   ]
  },
  {
   "cell_type": "code",
   "execution_count": 6,
   "id": "c96e64ed",
   "metadata": {},
   "outputs": [
    {
     "name": "stdout",
     "output_type": "stream",
     "text": [
      "Accuracy: 0.7833333333333333\n"
     ]
    }
   ],
   "source": [
    "df_dropped = df.dropna()\n",
    "X = df_dropped[['age', 'trestbps', 'chol', 'thalch', 'oldpeak', 'ca', 'num']]\n",
    "y = df_dropped['num']\n",
    "\n",
    "X_train, X_test, y_train, y_test = train_test_split(X, y, test_size=0.2, random_state=42)\n",
    "\n",
    "lr = LogisticRegression()\n",
    "lr.fit(X_train, y_train)\n",
    "\n",
    "y_pred = lr.predict(X_test)\n",
    "accuracy = accuracy_score(y_test, y_pred)\n",
    "print(\"Accuracy:\", accuracy)"
   ]
  },
  {
   "cell_type": "code",
   "execution_count": 7,
   "id": "ced4ccf1",
   "metadata": {},
   "outputs": [
    {
     "data": {
      "application/vnd.microsoft.datawrangler.viewer.v0+json": {
       "columns": [
        {
         "name": "index",
         "rawType": "int64",
         "type": "integer"
        },
        {
         "name": "age",
         "rawType": "int64",
         "type": "integer"
        },
        {
         "name": "trestbps",
         "rawType": "float64",
         "type": "float"
        },
        {
         "name": "chol",
         "rawType": "float64",
         "type": "float"
        },
        {
         "name": "thalch",
         "rawType": "float64",
         "type": "float"
        },
        {
         "name": "oldpeak",
         "rawType": "float64",
         "type": "float"
        },
        {
         "name": "ca",
         "rawType": "float64",
         "type": "float"
        }
       ],
       "ref": "f73a6958-0a98-48f9-b96a-01f479c0d742",
       "rows": [
        [
         "6",
         "62",
         "140.0",
         "268.0",
         "160.0",
         "3.6",
         "2.0"
        ],
        [
         "185",
         "63",
         "140.0",
         "195.0",
         "179.0",
         "0.0",
         "2.0"
        ],
        [
         "187",
         "66",
         "160.0",
         "246.0",
         "120.0",
         "0.0",
         "3.0"
        ],
        [
         "147",
         "41",
         "112.0",
         "250.0",
         "179.0",
         "0.0",
         "0.0"
        ],
        [
         "30",
         "69",
         "140.0",
         "239.0",
         "151.0",
         "1.8",
         "2.0"
        ],
        [
         "22",
         "58",
         "120.0",
         "284.0",
         "160.0",
         "1.8",
         "0.0"
        ],
        [
         "257",
         "76",
         "140.0",
         "197.0",
         "116.0",
         "1.1",
         "0.0"
        ],
        [
         "56",
         "50",
         "140.0",
         "233.0",
         "163.0",
         "0.6",
         "1.0"
        ],
        [
         "240",
         "41",
         "110.0",
         "235.0",
         "153.0",
         "0.0",
         "0.0"
        ],
        [
         "290",
         "67",
         "152.0",
         "212.0",
         "150.0",
         "0.8",
         "0.0"
        ],
        [
         "127",
         "54",
         "110.0",
         "239.0",
         "126.0",
         "2.8",
         "1.0"
        ],
        [
         "231",
         "55",
         "180.0",
         "327.0",
         "117.0",
         "3.4",
         "0.0"
        ],
        [
         "288",
         "56",
         "130.0",
         "221.0",
         "163.0",
         "0.0",
         "0.0"
        ],
        [
         "258",
         "70",
         "156.0",
         "245.0",
         "143.0",
         "0.0",
         "0.0"
        ],
        [
         "159",
         "68",
         "118.0",
         "277.0",
         "151.0",
         "1.0",
         "1.0"
        ],
        [
         "228",
         "54",
         "110.0",
         "206.0",
         "108.0",
         "0.0",
         "1.0"
        ],
        [
         "78",
         "48",
         "130.0",
         "245.0",
         "180.0",
         "0.2",
         "0.0"
        ],
        [
         "66",
         "60",
         "140.0",
         "185.0",
         "155.0",
         "3.0",
         "0.0"
        ],
        [
         "301",
         "57",
         "130.0",
         "236.0",
         "174.0",
         "0.0",
         "1.0"
        ],
        [
         "195",
         "67",
         "100.0",
         "299.0",
         "125.0",
         "0.9",
         "2.0"
        ],
        [
         "183",
         "59",
         "178.0",
         "270.0",
         "145.0",
         "4.2",
         "0.0"
        ],
        [
         "19",
         "49",
         "130.0",
         "266.0",
         "171.0",
         "0.6",
         "0.0"
        ],
        [
         "172",
         "59",
         "174.0",
         "249.0",
         "143.0",
         "0.0",
         "0.0"
        ],
        [
         "79",
         "58",
         "150.0",
         "270.0",
         "111.0",
         "0.8",
         "0.0"
        ],
        [
         "91",
         "62",
         "160.0",
         "164.0",
         "145.0",
         "6.2",
         "3.0"
        ],
        [
         "133",
         "51",
         "140.0",
         "261.0",
         "186.0",
         "0.0",
         "0.0"
        ],
        [
         "72",
         "62",
         "120.0",
         "267.0",
         "99.0",
         "1.8",
         "2.0"
        ],
        [
         "15",
         "57",
         "150.0",
         "168.0",
         "174.0",
         "1.6",
         "0.0"
        ],
        [
         "10",
         "57",
         "140.0",
         "192.0",
         "148.0",
         "0.4",
         "0.0"
        ],
        [
         "158",
         "60",
         "140.0",
         "293.0",
         "170.0",
         "1.2",
         "2.0"
        ],
        [
         "227",
         "67",
         "152.0",
         "277.0",
         "172.0",
         "0.0",
         "1.0"
        ],
        [
         "68",
         "59",
         "170.0",
         "326.0",
         "140.0",
         "3.4",
         "0.0"
        ],
        [
         "225",
         "34",
         "118.0",
         "210.0",
         "192.0",
         "0.7",
         "0.0"
        ],
        [
         "37",
         "57",
         "150.0",
         "276.0",
         "112.0",
         "0.6",
         "1.0"
        ],
        [
         "16",
         "48",
         "110.0",
         "229.0",
         "168.0",
         "1.0",
         "0.0"
        ],
        [
         "120",
         "48",
         "130.0",
         "256.0",
         "150.0",
         "0.0",
         "2.0"
        ],
        [
         "272",
         "46",
         "140.0",
         "311.0",
         "120.0",
         "1.8",
         "2.0"
        ],
        [
         "273",
         "71",
         "112.0",
         "149.0",
         "125.0",
         "1.6",
         "0.0"
        ],
        [
         "67",
         "54",
         "150.0",
         "232.0",
         "165.0",
         "1.6",
         "0.0"
        ],
        [
         "102",
         "57",
         "128.0",
         "303.0",
         "159.0",
         "0.0",
         "1.0"
        ],
        [
         "69",
         "46",
         "150.0",
         "231.0",
         "147.0",
         "3.6",
         "0.0"
        ],
        [
         "31",
         "60",
         "117.0",
         "230.0",
         "160.0",
         "1.4",
         "2.0"
        ],
        [
         "174",
         "64",
         "145.0",
         "212.0",
         "132.0",
         "2.0",
         "2.0"
        ],
        [
         "149",
         "60",
         "102.0",
         "318.0",
         "160.0",
         "0.0",
         "1.0"
        ],
        [
         "226",
         "47",
         "112.0",
         "204.0",
         "143.0",
         "0.1",
         "0.0"
        ],
        [
         "115",
         "41",
         "135.0",
         "203.0",
         "132.0",
         "0.0",
         "0.0"
        ],
        [
         "18",
         "48",
         "130.0",
         "275.0",
         "139.0",
         "0.2",
         "0.0"
        ],
        [
         "181",
         "56",
         "134.0",
         "409.0",
         "150.0",
         "1.9",
         "2.0"
        ],
        [
         "97",
         "60",
         "150.0",
         "258.0",
         "157.0",
         "2.6",
         "2.0"
        ],
        [
         "167",
         "54",
         "132.0",
         "288.0",
         "159.0",
         "0.0",
         "1.0"
        ]
       ],
       "shape": {
        "columns": 6,
        "rows": 239
       }
      },
      "text/html": [
       "<div>\n",
       "<style scoped>\n",
       "    .dataframe tbody tr th:only-of-type {\n",
       "        vertical-align: middle;\n",
       "    }\n",
       "\n",
       "    .dataframe tbody tr th {\n",
       "        vertical-align: top;\n",
       "    }\n",
       "\n",
       "    .dataframe thead th {\n",
       "        text-align: right;\n",
       "    }\n",
       "</style>\n",
       "<table border=\"1\" class=\"dataframe\">\n",
       "  <thead>\n",
       "    <tr style=\"text-align: right;\">\n",
       "      <th></th>\n",
       "      <th>age</th>\n",
       "      <th>trestbps</th>\n",
       "      <th>chol</th>\n",
       "      <th>thalch</th>\n",
       "      <th>oldpeak</th>\n",
       "      <th>ca</th>\n",
       "    </tr>\n",
       "  </thead>\n",
       "  <tbody>\n",
       "    <tr>\n",
       "      <th>6</th>\n",
       "      <td>62</td>\n",
       "      <td>140.0</td>\n",
       "      <td>268.0</td>\n",
       "      <td>160.0</td>\n",
       "      <td>3.6</td>\n",
       "      <td>2.0</td>\n",
       "    </tr>\n",
       "    <tr>\n",
       "      <th>185</th>\n",
       "      <td>63</td>\n",
       "      <td>140.0</td>\n",
       "      <td>195.0</td>\n",
       "      <td>179.0</td>\n",
       "      <td>0.0</td>\n",
       "      <td>2.0</td>\n",
       "    </tr>\n",
       "    <tr>\n",
       "      <th>187</th>\n",
       "      <td>66</td>\n",
       "      <td>160.0</td>\n",
       "      <td>246.0</td>\n",
       "      <td>120.0</td>\n",
       "      <td>0.0</td>\n",
       "      <td>3.0</td>\n",
       "    </tr>\n",
       "    <tr>\n",
       "      <th>147</th>\n",
       "      <td>41</td>\n",
       "      <td>112.0</td>\n",
       "      <td>250.0</td>\n",
       "      <td>179.0</td>\n",
       "      <td>0.0</td>\n",
       "      <td>0.0</td>\n",
       "    </tr>\n",
       "    <tr>\n",
       "      <th>30</th>\n",
       "      <td>69</td>\n",
       "      <td>140.0</td>\n",
       "      <td>239.0</td>\n",
       "      <td>151.0</td>\n",
       "      <td>1.8</td>\n",
       "      <td>2.0</td>\n",
       "    </tr>\n",
       "    <tr>\n",
       "      <th>...</th>\n",
       "      <td>...</td>\n",
       "      <td>...</td>\n",
       "      <td>...</td>\n",
       "      <td>...</td>\n",
       "      <td>...</td>\n",
       "      <td>...</td>\n",
       "    </tr>\n",
       "    <tr>\n",
       "      <th>190</th>\n",
       "      <td>50</td>\n",
       "      <td>129.0</td>\n",
       "      <td>196.0</td>\n",
       "      <td>163.0</td>\n",
       "      <td>0.0</td>\n",
       "      <td>0.0</td>\n",
       "    </tr>\n",
       "    <tr>\n",
       "      <th>71</th>\n",
       "      <td>67</td>\n",
       "      <td>125.0</td>\n",
       "      <td>254.0</td>\n",
       "      <td>163.0</td>\n",
       "      <td>0.2</td>\n",
       "      <td>2.0</td>\n",
       "    </tr>\n",
       "    <tr>\n",
       "      <th>107</th>\n",
       "      <td>57</td>\n",
       "      <td>128.0</td>\n",
       "      <td>229.0</td>\n",
       "      <td>150.0</td>\n",
       "      <td>0.4</td>\n",
       "      <td>1.0</td>\n",
       "    </tr>\n",
       "    <tr>\n",
       "      <th>274</th>\n",
       "      <td>59</td>\n",
       "      <td>134.0</td>\n",
       "      <td>204.0</td>\n",
       "      <td>162.0</td>\n",
       "      <td>0.8</td>\n",
       "      <td>2.0</td>\n",
       "    </tr>\n",
       "    <tr>\n",
       "      <th>103</th>\n",
       "      <td>71</td>\n",
       "      <td>110.0</td>\n",
       "      <td>265.0</td>\n",
       "      <td>130.0</td>\n",
       "      <td>0.0</td>\n",
       "      <td>1.0</td>\n",
       "    </tr>\n",
       "  </tbody>\n",
       "</table>\n",
       "<p>239 rows × 6 columns</p>\n",
       "</div>"
      ],
      "text/plain": [
       "     age  trestbps   chol  thalch  oldpeak   ca\n",
       "6     62     140.0  268.0   160.0      3.6  2.0\n",
       "185   63     140.0  195.0   179.0      0.0  2.0\n",
       "187   66     160.0  246.0   120.0      0.0  3.0\n",
       "147   41     112.0  250.0   179.0      0.0  0.0\n",
       "30    69     140.0  239.0   151.0      1.8  2.0\n",
       "..   ...       ...    ...     ...      ...  ...\n",
       "190   50     129.0  196.0   163.0      0.0  0.0\n",
       "71    67     125.0  254.0   163.0      0.2  2.0\n",
       "107   57     128.0  229.0   150.0      0.4  1.0\n",
       "274   59     134.0  204.0   162.0      0.8  2.0\n",
       "103   71     110.0  265.0   130.0      0.0  1.0\n",
       "\n",
       "[239 rows x 6 columns]"
      ]
     },
     "execution_count": 7,
     "metadata": {},
     "output_type": "execute_result"
    }
   ],
   "source": [
    "X_train_df = pd.DataFrame(X_train, columns=['age', 'trestbps', 'chol', 'thalch', 'oldpeak', 'ca'])\n",
    "X_train_df"
   ]
  },
  {
   "cell_type": "code",
   "execution_count": 43,
   "id": "88f8438f",
   "metadata": {},
   "outputs": [
    {
     "data": {
      "application/vnd.microsoft.datawrangler.viewer.v0+json": {
       "columns": [
        {
         "name": "index",
         "rawType": "int64",
         "type": "integer"
        },
        {
         "name": "sex",
         "rawType": "object",
         "type": "string"
        },
        {
         "name": "dataset",
         "rawType": "object",
         "type": "string"
        },
        {
         "name": "cp",
         "rawType": "object",
         "type": "string"
        },
        {
         "name": "fbs",
         "rawType": "object",
         "type": "unknown"
        },
        {
         "name": "restecg",
         "rawType": "object",
         "type": "string"
        },
        {
         "name": "exang",
         "rawType": "object",
         "type": "unknown"
        },
        {
         "name": "slope",
         "rawType": "object",
         "type": "string"
        },
        {
         "name": "thal",
         "rawType": "object",
         "type": "string"
        },
        {
         "name": "age",
         "rawType": "object",
         "type": "unknown"
        },
        {
         "name": "trestbps",
         "rawType": "object",
         "type": "unknown"
        },
        {
         "name": "chol",
         "rawType": "object",
         "type": "unknown"
        },
        {
         "name": "thalch",
         "rawType": "object",
         "type": "unknown"
        },
        {
         "name": "oldpeak",
         "rawType": "object",
         "type": "unknown"
        },
        {
         "name": "ca",
         "rawType": "object",
         "type": "unknown"
        }
       ],
       "ref": "b5d73f5c-d48c-448d-a771-ca98d6ae859a",
       "rows": [
        [
         "0",
         "Male",
         "VA Long Beach",
         "asymptomatic",
         "False",
         "st-t abnormality",
         "True",
         "flat",
         "normal",
         "62.0",
         "128.9246098202023",
         "170.0",
         "120.0",
         "3.0",
         "1.256207825063943"
        ],
        [
         "1",
         "Male",
         "Hungary",
         "non-anginal",
         "False",
         "normal",
         "False",
         "flat",
         "normal",
         "54.0",
         "150.0",
         "203.0",
         "122.0",
         "0.0",
         "0.27586904339013746"
        ],
        [
         "2",
         "Male",
         "VA Long Beach",
         "non-anginal",
         "False",
         "normal",
         "False",
         "flat",
         "normal",
         "51.0",
         "130.0",
         "339.0",
         "107.33333333333333",
         "0.7333333333333334",
         "0.0"
        ],
        [
         "3",
         "Female",
         "Cleveland",
         "non-anginal",
         "False",
         "normal",
         "False",
         "flat",
         "normal",
         "50.0",
         "120.0",
         "219.0",
         "158.0",
         "1.6",
         "0.0"
        ],
        [
         "4",
         "Male",
         "Cleveland",
         "atypical angina",
         "False",
         "normal",
         "False",
         "upsloping",
         "normal",
         "52.0",
         "120.0",
         "325.0",
         "172.0",
         "0.2",
         "0.0"
        ],
        [
         "5",
         "Male",
         "Cleveland",
         "asymptomatic",
         "False",
         "normal",
         "False",
         "flat",
         "fixed defect",
         "57.0",
         "140.0",
         "192.0",
         "148.0",
         "0.4",
         "0.0"
        ],
        [
         "6",
         "Male",
         "Hungary",
         "non-anginal",
         "False",
         "normal",
         "False",
         "flat",
         "normal",
         "40.0",
         "130.0",
         "281.0",
         "167.0",
         "0.0",
         "0.0"
        ],
        [
         "7",
         "Male",
         "Hungary",
         "asymptomatic",
         "False",
         "normal",
         "True",
         "flat",
         "normal",
         "54.0",
         "200.0",
         "198.0",
         "142.0",
         "2.0",
         "0.3008879427368433"
        ],
        [
         "8",
         "Male",
         "Switzerland",
         "asymptomatic",
         "False",
         "normal",
         "True",
         "flat",
         "normal",
         "52.0",
         "95.0",
         "261.3333333333333",
         "82.0",
         "1.4330774686189867",
         "1.331016311722541"
        ],
        [
         "9",
         "Male",
         "Hungary",
         "asymptomatic",
         "True",
         "normal",
         "True",
         "flat",
         "normal",
         "56.0",
         "155.0",
         "342.0",
         "150.0",
         "3.0",
         "0.0"
        ],
        [
         "10",
         "Male",
         "Hungary",
         "atypical angina",
         "False",
         "normal",
         "False",
         "flat",
         "normal",
         "49.0",
         "100.0",
         "253.0",
         "174.0",
         "0.0",
         "0.0"
        ],
        [
         "11",
         "Male",
         "Cleveland",
         "asymptomatic",
         "True",
         "lv hypertrophy",
         "True",
         "upsloping",
         "reversable defect",
         "63.0",
         "130.0",
         "330.0",
         "132.0",
         "1.8",
         "3.0"
        ],
        [
         "12",
         "Male",
         "Cleveland",
         "non-anginal",
         "False",
         "normal",
         "False",
         "upsloping",
         "normal",
         "38.0",
         "138.0",
         "175.0",
         "173.0",
         "0.0",
         "0.0"
        ],
        [
         "13",
         "Male",
         "Hungary",
         "asymptomatic",
         "False",
         "normal",
         "False",
         "flat",
         "normal",
         "37.0",
         "120.0",
         "223.0",
         "168.0",
         "0.0",
         "0.0"
        ],
        [
         "14",
         "Male",
         "Cleveland",
         "asymptomatic",
         "False",
         "lv hypertrophy",
         "True",
         "flat",
         "reversable defect",
         "40.0",
         "110.0",
         "167.0",
         "114.0",
         "2.0",
         "0.0"
        ],
        [
         "15",
         "Male",
         "Cleveland",
         "asymptomatic",
         "False",
         "lv hypertrophy",
         "True",
         "flat",
         "reversable defect",
         "54.0",
         "124.0",
         "266.0",
         "109.0",
         "2.2",
         "1.0"
        ],
        [
         "16",
         "Male",
         "VA Long Beach",
         "asymptomatic",
         "True",
         "lv hypertrophy",
         "False",
         "flat",
         "normal",
         "58.0",
         "135.0",
         "385.0",
         "105.0",
         "1.0",
         "0.6000000000006548"
        ],
        [
         "17",
         "Male",
         "Switzerland",
         "asymptomatic",
         "False",
         "normal",
         "False",
         "flat",
         "reversable defect",
         "52.0",
         "130.0",
         "261.3333333333333",
         "120.0",
         "0.0",
         "0.557327925158468"
        ],
        [
         "18",
         "Male",
         "Switzerland",
         "asymptomatic",
         "False",
         "normal",
         "False",
         "downsloping",
         "normal",
         "57.0",
         "95.0",
         "240.66666666661655",
         "182.0",
         "0.7",
         "0.6370555298889983"
        ],
        [
         "19",
         "Male",
         "Hungary",
         "asymptomatic",
         "False",
         "normal",
         "False",
         "flat",
         "normal",
         "50.0",
         "140.0",
         "129.0",
         "135.0",
         "0.0",
         "0.7368636202955373"
        ],
        [
         "20",
         "Male",
         "Cleveland",
         "typical angina",
         "True",
         "lv hypertrophy",
         "False",
         "flat",
         "normal",
         "69.0",
         "160.0",
         "234.0",
         "131.0",
         "0.1",
         "1.0"
        ],
        [
         "21",
         "Male",
         "Hungary",
         "atypical angina",
         "False",
         "st-t abnormality",
         "False",
         "flat",
         "normal",
         "50.0",
         "170.0",
         "209.0",
         "116.0",
         "0.0",
         "1.025275971270507"
        ],
        [
         "22",
         "Female",
         "Cleveland",
         "asymptomatic",
         "False",
         "lv hypertrophy",
         "False",
         "flat",
         "normal",
         "53.0",
         "130.0",
         "264.0",
         "143.0",
         "0.4",
         "0.0"
        ],
        [
         "23",
         "Male",
         "VA Long Beach",
         "asymptomatic",
         "True",
         "st-t abnormality",
         "False",
         "flat",
         "fixed defect",
         "55.0",
         "122.0",
         "223.0",
         "100.0",
         "0.0",
         "1.1166926442032787"
        ],
        [
         "24",
         "Male",
         "Hungary",
         "typical angina",
         "False",
         "normal",
         "False",
         "flat",
         "normal",
         "47.0",
         "110.0",
         "249.0",
         "150.0",
         "0.0",
         "0.0"
        ],
        [
         "25",
         "Male",
         "Hungary",
         "asymptomatic",
         "False",
         "normal",
         "False",
         "flat",
         "normal",
         "54.0",
         "140.0",
         "216.0",
         "105.0",
         "1.5",
         "0.3788330642726965"
        ],
        [
         "26",
         "Male",
         "Hungary",
         "non-anginal",
         "False",
         "normal",
         "False",
         "flat",
         "normal",
         "49.0",
         "115.0",
         "265.0",
         "175.0",
         "0.0",
         "0.0"
        ],
        [
         "27",
         "Male",
         "VA Long Beach",
         "non-anginal",
         "True",
         "normal",
         "False",
         "flat",
         "normal",
         "74.0",
         "140.0",
         "237.0",
         "94.0",
         "0.0",
         "1.3112912828774526"
        ],
        [
         "28",
         "Male",
         "Cleveland",
         "asymptomatic",
         "False",
         "normal",
         "False",
         "upsloping",
         "reversable defect",
         "43.0",
         "110.0",
         "211.0",
         "161.0",
         "0.0",
         "0.0"
        ],
        [
         "29",
         "Male",
         "Cleveland",
         "typical angina",
         "False",
         "normal",
         "True",
         "flat",
         "reversable defect",
         "38.0",
         "120.0",
         "231.0",
         "182.0",
         "3.8",
         "0.0"
        ],
        [
         "30",
         "Male",
         "VA Long Beach",
         "asymptomatic",
         "False",
         "normal",
         "True",
         "downsloping",
         "normal",
         "63.0",
         "170.0",
         "177.0",
         "84.0",
         "2.5",
         "1.102966096283202"
        ],
        [
         "31",
         "Male",
         "Switzerland",
         "non-anginal",
         "False",
         "normal",
         "False",
         "flat",
         "normal",
         "57.0",
         "105.0",
         "291.6666666666667",
         "148.0",
         "0.3",
         "1.1427229651496142"
        ],
        [
         "32",
         "Male",
         "Cleveland",
         "typical angina",
         "False",
         "normal",
         "False",
         "flat",
         "reversable defect",
         "45.0",
         "110.0",
         "264.0",
         "132.0",
         "1.2",
         "0.0"
        ],
        [
         "33",
         "Male",
         "Cleveland",
         "typical angina",
         "False",
         "lv hypertrophy",
         "False",
         "flat",
         "reversable defect",
         "64.0",
         "170.0",
         "227.0",
         "155.0",
         "0.6",
         "0.0"
        ],
        [
         "34",
         "Male",
         "Hungary",
         "asymptomatic",
         "False",
         "normal",
         "True",
         "flat",
         "normal",
         "55.0",
         "140.0",
         "268.0",
         "128.0",
         "1.5",
         "0.9732821578759019"
        ],
        [
         "35",
         "Male",
         "Hungary",
         "atypical angina",
         "False",
         "normal",
         "False",
         "flat",
         "normal",
         "44.0",
         "120.0",
         "184.0",
         "142.0",
         "1.0",
         "1.5047673422475019"
        ],
        [
         "36",
         "Male",
         "VA Long Beach",
         "non-anginal",
         "False",
         "st-t abnormality",
         "False",
         "downsloping",
         "normal",
         "69.0",
         "140.0",
         "256.6666666666667",
         "118.0",
         "2.5",
         "0.5749746901805837"
        ],
        [
         "37",
         "Male",
         "VA Long Beach",
         "non-anginal",
         "False",
         "st-t abnormality",
         "False",
         "flat",
         "normal",
         "55.0",
         "127.33333333333333",
         "228.0",
         "121.0",
         "1.4333333333333333",
         "0.6408645233452439"
        ],
        [
         "38",
         "Male",
         "Cleveland",
         "non-anginal",
         "False",
         "normal",
         "False",
         "upsloping",
         "normal",
         "47.0",
         "130.0",
         "253.0",
         "179.0",
         "0.0",
         "0.0"
        ],
        [
         "39",
         "Male",
         "VA Long Beach",
         "asymptomatic",
         "False",
         "st-t abnormality",
         "True",
         "upsloping",
         "normal",
         "77.0",
         "124.0",
         "171.0",
         "110.0",
         "2.0",
         "1.4087736273022489"
        ],
        [
         "40",
         "Male",
         "Hungary",
         "asymptomatic",
         "False",
         "normal",
         "False",
         "flat",
         "normal",
         "49.0",
         "140.0",
         "142.0",
         "130.0",
         "0.0",
         "0.8447972390409577"
        ],
        [
         "41",
         "Male",
         "Cleveland",
         "typical angina",
         "False",
         "lv hypertrophy",
         "True",
         "upsloping",
         "normal",
         "51.0",
         "125.0",
         "213.0",
         "125.0",
         "1.4",
         "1.0"
        ],
        [
         "42",
         "Male",
         "Switzerland",
         "asymptomatic",
         "False",
         "st-t abnormality",
         "False",
         "flat",
         "normal",
         "56.0",
         "120.0",
         "245.0",
         "148.0",
         "0.0",
         "0.40701246057830814"
        ],
        [
         "43",
         "Male",
         "Cleveland",
         "asymptomatic",
         "True",
         "normal",
         "False",
         "flat",
         "reversable defect",
         "68.0",
         "144.0",
         "193.0",
         "141.0",
         "3.4",
         "2.0"
        ],
        [
         "44",
         "Male",
         "VA Long Beach",
         "non-anginal",
         "True",
         "st-t abnormality",
         "False",
         "flat",
         "normal",
         "63.0",
         "130.0",
         "165.0",
         "160.0",
         "3.0",
         "1.0500054946364545"
        ],
        [
         "45",
         "Female",
         "Cleveland",
         "atypical angina",
         "True",
         "lv hypertrophy",
         "False",
         "upsloping",
         "normal",
         "58.0",
         "136.0",
         "319.0",
         "152.0",
         "0.0",
         "2.0"
        ],
        [
         "46",
         "Male",
         "Switzerland",
         "asymptomatic",
         "False",
         "st-t abnormality",
         "False",
         "flat",
         "reversable defect",
         "62.0",
         "150.0",
         "171.5",
         "78.0",
         "2.0",
         "0.7562495753744307"
        ],
        [
         "47",
         "Male",
         "Hungary",
         "asymptomatic",
         "False",
         "normal",
         "True",
         "flat",
         "normal",
         "55.0",
         "140.0",
         "201.0",
         "130.0",
         "3.0",
         "0.28545210379107927"
        ],
        [
         "48",
         "Female",
         "Cleveland",
         "asymptomatic",
         "False",
         "normal",
         "True",
         "upsloping",
         "normal",
         "57.0",
         "120.0",
         "354.0",
         "163.0",
         "0.6",
         "0.0"
        ],
        [
         "49",
         "Male",
         "Cleveland",
         "asymptomatic",
         "False",
         "normal",
         "True",
         "flat",
         "fixed defect",
         "57.0",
         "110.0",
         "201.0",
         "126.0",
         "1.5",
         "0.0"
        ]
       ],
       "shape": {
        "columns": 14,
        "rows": 736
       }
      },
      "text/html": [
       "<div>\n",
       "<style scoped>\n",
       "    .dataframe tbody tr th:only-of-type {\n",
       "        vertical-align: middle;\n",
       "    }\n",
       "\n",
       "    .dataframe tbody tr th {\n",
       "        vertical-align: top;\n",
       "    }\n",
       "\n",
       "    .dataframe thead th {\n",
       "        text-align: right;\n",
       "    }\n",
       "</style>\n",
       "<table border=\"1\" class=\"dataframe\">\n",
       "  <thead>\n",
       "    <tr style=\"text-align: right;\">\n",
       "      <th></th>\n",
       "      <th>sex</th>\n",
       "      <th>dataset</th>\n",
       "      <th>cp</th>\n",
       "      <th>fbs</th>\n",
       "      <th>restecg</th>\n",
       "      <th>exang</th>\n",
       "      <th>slope</th>\n",
       "      <th>thal</th>\n",
       "      <th>age</th>\n",
       "      <th>trestbps</th>\n",
       "      <th>chol</th>\n",
       "      <th>thalch</th>\n",
       "      <th>oldpeak</th>\n",
       "      <th>ca</th>\n",
       "    </tr>\n",
       "  </thead>\n",
       "  <tbody>\n",
       "    <tr>\n",
       "      <th>0</th>\n",
       "      <td>Male</td>\n",
       "      <td>VA Long Beach</td>\n",
       "      <td>asymptomatic</td>\n",
       "      <td>False</td>\n",
       "      <td>st-t abnormality</td>\n",
       "      <td>True</td>\n",
       "      <td>flat</td>\n",
       "      <td>normal</td>\n",
       "      <td>62.0</td>\n",
       "      <td>128.92461</td>\n",
       "      <td>170.0</td>\n",
       "      <td>120.0</td>\n",
       "      <td>3.0</td>\n",
       "      <td>1.256208</td>\n",
       "    </tr>\n",
       "    <tr>\n",
       "      <th>1</th>\n",
       "      <td>Male</td>\n",
       "      <td>Hungary</td>\n",
       "      <td>non-anginal</td>\n",
       "      <td>False</td>\n",
       "      <td>normal</td>\n",
       "      <td>False</td>\n",
       "      <td>flat</td>\n",
       "      <td>normal</td>\n",
       "      <td>54.0</td>\n",
       "      <td>150.0</td>\n",
       "      <td>203.0</td>\n",
       "      <td>122.0</td>\n",
       "      <td>0.0</td>\n",
       "      <td>0.275869</td>\n",
       "    </tr>\n",
       "    <tr>\n",
       "      <th>2</th>\n",
       "      <td>Male</td>\n",
       "      <td>VA Long Beach</td>\n",
       "      <td>non-anginal</td>\n",
       "      <td>False</td>\n",
       "      <td>normal</td>\n",
       "      <td>False</td>\n",
       "      <td>flat</td>\n",
       "      <td>normal</td>\n",
       "      <td>51.0</td>\n",
       "      <td>130.0</td>\n",
       "      <td>339.0</td>\n",
       "      <td>107.333333</td>\n",
       "      <td>0.733333</td>\n",
       "      <td>0.0</td>\n",
       "    </tr>\n",
       "    <tr>\n",
       "      <th>3</th>\n",
       "      <td>Female</td>\n",
       "      <td>Cleveland</td>\n",
       "      <td>non-anginal</td>\n",
       "      <td>False</td>\n",
       "      <td>normal</td>\n",
       "      <td>False</td>\n",
       "      <td>flat</td>\n",
       "      <td>normal</td>\n",
       "      <td>50.0</td>\n",
       "      <td>120.0</td>\n",
       "      <td>219.0</td>\n",
       "      <td>158.0</td>\n",
       "      <td>1.6</td>\n",
       "      <td>0.0</td>\n",
       "    </tr>\n",
       "    <tr>\n",
       "      <th>4</th>\n",
       "      <td>Male</td>\n",
       "      <td>Cleveland</td>\n",
       "      <td>atypical angina</td>\n",
       "      <td>False</td>\n",
       "      <td>normal</td>\n",
       "      <td>False</td>\n",
       "      <td>upsloping</td>\n",
       "      <td>normal</td>\n",
       "      <td>52.0</td>\n",
       "      <td>120.0</td>\n",
       "      <td>325.0</td>\n",
       "      <td>172.0</td>\n",
       "      <td>0.2</td>\n",
       "      <td>0.0</td>\n",
       "    </tr>\n",
       "    <tr>\n",
       "      <th>...</th>\n",
       "      <td>...</td>\n",
       "      <td>...</td>\n",
       "      <td>...</td>\n",
       "      <td>...</td>\n",
       "      <td>...</td>\n",
       "      <td>...</td>\n",
       "      <td>...</td>\n",
       "      <td>...</td>\n",
       "      <td>...</td>\n",
       "      <td>...</td>\n",
       "      <td>...</td>\n",
       "      <td>...</td>\n",
       "      <td>...</td>\n",
       "      <td>...</td>\n",
       "    </tr>\n",
       "    <tr>\n",
       "      <th>731</th>\n",
       "      <td>Male</td>\n",
       "      <td>Cleveland</td>\n",
       "      <td>asymptomatic</td>\n",
       "      <td>False</td>\n",
       "      <td>normal</td>\n",
       "      <td>True</td>\n",
       "      <td>upsloping</td>\n",
       "      <td>reversable defect</td>\n",
       "      <td>59.0</td>\n",
       "      <td>140.0</td>\n",
       "      <td>177.0</td>\n",
       "      <td>162.0</td>\n",
       "      <td>0.0</td>\n",
       "      <td>1.0</td>\n",
       "    </tr>\n",
       "    <tr>\n",
       "      <th>732</th>\n",
       "      <td>Male</td>\n",
       "      <td>Cleveland</td>\n",
       "      <td>asymptomatic</td>\n",
       "      <td>False</td>\n",
       "      <td>lv hypertrophy</td>\n",
       "      <td>True</td>\n",
       "      <td>upsloping</td>\n",
       "      <td>reversable defect</td>\n",
       "      <td>61.0</td>\n",
       "      <td>140.0</td>\n",
       "      <td>207.0</td>\n",
       "      <td>138.0</td>\n",
       "      <td>1.9</td>\n",
       "      <td>1.0</td>\n",
       "    </tr>\n",
       "    <tr>\n",
       "      <th>733</th>\n",
       "      <td>Male</td>\n",
       "      <td>VA Long Beach</td>\n",
       "      <td>asymptomatic</td>\n",
       "      <td>True</td>\n",
       "      <td>normal</td>\n",
       "      <td>True</td>\n",
       "      <td>downsloping</td>\n",
       "      <td>reversable defect</td>\n",
       "      <td>75.0</td>\n",
       "      <td>160.0</td>\n",
       "      <td>310.0</td>\n",
       "      <td>112.0</td>\n",
       "      <td>2.0</td>\n",
       "      <td>2.225386</td>\n",
       "    </tr>\n",
       "    <tr>\n",
       "      <th>734</th>\n",
       "      <td>Female</td>\n",
       "      <td>Hungary</td>\n",
       "      <td>atypical angina</td>\n",
       "      <td>False</td>\n",
       "      <td>normal</td>\n",
       "      <td>True</td>\n",
       "      <td>flat</td>\n",
       "      <td>normal</td>\n",
       "      <td>53.0</td>\n",
       "      <td>140.0</td>\n",
       "      <td>216.0</td>\n",
       "      <td>142.0</td>\n",
       "      <td>2.0</td>\n",
       "      <td>0.936101</td>\n",
       "    </tr>\n",
       "    <tr>\n",
       "      <th>735</th>\n",
       "      <td>Female</td>\n",
       "      <td>Cleveland</td>\n",
       "      <td>asymptomatic</td>\n",
       "      <td>False</td>\n",
       "      <td>lv hypertrophy</td>\n",
       "      <td>False</td>\n",
       "      <td>upsloping</td>\n",
       "      <td>normal</td>\n",
       "      <td>57.0</td>\n",
       "      <td>128.0</td>\n",
       "      <td>303.0</td>\n",
       "      <td>159.0</td>\n",
       "      <td>0.0</td>\n",
       "      <td>1.0</td>\n",
       "    </tr>\n",
       "  </tbody>\n",
       "</table>\n",
       "<p>736 rows × 14 columns</p>\n",
       "</div>"
      ],
      "text/plain": [
       "        sex        dataset               cp  ...      thalch   oldpeak        ca\n",
       "0      Male  VA Long Beach     asymptomatic  ...       120.0       3.0  1.256208\n",
       "1      Male        Hungary      non-anginal  ...       122.0       0.0  0.275869\n",
       "2      Male  VA Long Beach      non-anginal  ...  107.333333  0.733333       0.0\n",
       "3    Female      Cleveland      non-anginal  ...       158.0       1.6       0.0\n",
       "4      Male      Cleveland  atypical angina  ...       172.0       0.2       0.0\n",
       "..      ...            ...              ...  ...         ...       ...       ...\n",
       "731    Male      Cleveland     asymptomatic  ...       162.0       0.0       1.0\n",
       "732    Male      Cleveland     asymptomatic  ...       138.0       1.9       1.0\n",
       "733    Male  VA Long Beach     asymptomatic  ...       112.0       2.0  2.225386\n",
       "734  Female        Hungary  atypical angina  ...       142.0       2.0  0.936101\n",
       "735  Female      Cleveland     asymptomatic  ...       159.0       0.0       1.0\n",
       "\n",
       "[736 rows x 14 columns]"
      ]
     },
     "execution_count": 43,
     "metadata": {},
     "output_type": "execute_result"
    }
   ],
   "source": [
    "# Split first to avoid data leakage\n",
    "X = df.drop('num', axis=1)\n",
    "y = df['num']\n",
    "X_train, X_test, y_train, y_test = train_test_split(X, y, test_size=0.2, random_state=42)\n",
    "\n",
    "# Define transformer\n",
    "transformer = ColumnTransformer(\n",
    "    transformers=[\n",
    "        ('cat', SimpleImputer(strategy='most_frequent'), categorical_cols),\n",
    "        ('num', KNNImputer(n_neighbors=3, weights='distance'), numerical_cols)\n",
    "    ]\n",
    ")\n",
    "\n",
    "# Fit and transform on training data only\n",
    "X_train_transformed = transformer.fit_transform(X_train)\n",
    "X_test_transformed = transformer.transform(X_test)  # Only transform test data\n",
    "\n",
    "# Create DataFrames ensuring correct column order\n",
    "features = categorical_cols + numerical_cols  \n",
    "X_train_df = pd.DataFrame(X_train_transformed, columns=features)\n",
    "X_test_df = pd.DataFrame(X_test_transformed, columns=features)\n",
    "X_train_df"
   ]
  },
  {
   "cell_type": "code",
   "execution_count": null,
   "id": "b5b5b04f",
   "metadata": {},
   "outputs": [],
   "source": [
    "X_train_df"
   ]
  },
  {
   "cell_type": "code",
   "execution_count": 22,
   "id": "6d28a457",
   "metadata": {},
   "outputs": [
    {
     "data": {
      "text/plain": [
       "array(['normal', 'fixed defect', 'reversable defect'], dtype=object)"
      ]
     },
     "execution_count": 22,
     "metadata": {},
     "output_type": "execute_result"
    }
   ],
   "source": [
    "X_test_df['thal'].unique()"
   ]
  },
  {
   "cell_type": "code",
   "execution_count": 27,
   "id": "260c116d",
   "metadata": {},
   "outputs": [],
   "source": [
    "oridnal_columns = ['cp', 'restecg', 'slope', 'thal']\n",
    "normal_cat_cols = ['sex', 'dataset', 'fbs', 'exang']"
   ]
  },
  {
   "cell_type": "code",
   "execution_count": 28,
   "id": "c1cc1370",
   "metadata": {},
   "outputs": [],
   "source": [
    "from sklearn.preprocessing import OrdinalEncoder\n",
    "\n",
    "# Create an instance of the OrdinalEncoder\n",
    "encoder = OrdinalEncoder(categories=[\n",
    "    ['asymptomatic', 'non-anginal', 'atypical angina', 'typical angina'], \n",
    "    ['normal', 'st-t abnormality', 'lv hypertrophy'], \n",
    "    ['flat', 'upsloping', 'downsloping'],\n",
    "    ['normal', 'reversable defect', 'fixed defect']\n",
    "    ])\n",
    "\n",
    "# Fit and transform the categorical columns \n",
    "X_ordinal_encoded = encoder.fit_transform(X_train_df[oridnal_columns])\n",
    "\n",
    "from sklearn.preprocessing import OneHotEncoder\n",
    "\n",
    "# Create an instance of the OneHotEncoder\n",
    "ohe = OneHotEncoder(drop='first', sparse_output=False)  # sparse_output=False for dense array\n",
    "\n",
    "# Fit and transform the data\n",
    "X_encoded = ohe.fit_transform(X_train_df[normal_cat_cols])\n",
    "\n",
    "# Convert to DataFrame with proper column names\n",
    "encoded_columns = ohe.get_feature_names_out(normal_cat_cols)\n"
   ]
  },
  {
   "cell_type": "code",
   "execution_count": null,
   "id": "1673f110",
   "metadata": {},
   "outputs": [],
   "source": [
    "X_ordinal_encoded_df = pd.DataFrame(\n",
    "    X_ordinal_encoded,\n",
    "    columns=oridnal_columns,  # Make sure this matches your input columns\n",
    "    index=X_train_df.index\n",
    ")\n",
    "X_ordinal_encoded_df"
   ]
  },
  {
   "cell_type": "code",
   "execution_count": 31,
   "id": "264d6219",
   "metadata": {},
   "outputs": [
    {
     "data": {
      "application/vnd.microsoft.datawrangler.viewer.v0+json": {
       "columns": [
        {
         "name": "index",
         "rawType": "int64",
         "type": "integer"
        },
        {
         "name": "sex_Male",
         "rawType": "float64",
         "type": "float"
        },
        {
         "name": "dataset_Hungary",
         "rawType": "float64",
         "type": "float"
        },
        {
         "name": "dataset_Switzerland",
         "rawType": "float64",
         "type": "float"
        },
        {
         "name": "dataset_VA Long Beach",
         "rawType": "float64",
         "type": "float"
        },
        {
         "name": "fbs_True",
         "rawType": "float64",
         "type": "float"
        },
        {
         "name": "exang_True",
         "rawType": "float64",
         "type": "float"
        }
       ],
       "ref": "1806aa64-10ac-4af2-9a21-30f915185a09",
       "rows": [
        [
         "0",
         "1.0",
         "0.0",
         "0.0",
         "1.0",
         "0.0",
         "1.0"
        ],
        [
         "1",
         "1.0",
         "1.0",
         "0.0",
         "0.0",
         "0.0",
         "0.0"
        ],
        [
         "2",
         "1.0",
         "0.0",
         "0.0",
         "1.0",
         "0.0",
         "0.0"
        ],
        [
         "3",
         "0.0",
         "0.0",
         "0.0",
         "0.0",
         "0.0",
         "0.0"
        ],
        [
         "4",
         "1.0",
         "0.0",
         "0.0",
         "0.0",
         "0.0",
         "0.0"
        ],
        [
         "5",
         "1.0",
         "0.0",
         "0.0",
         "0.0",
         "0.0",
         "0.0"
        ],
        [
         "6",
         "1.0",
         "1.0",
         "0.0",
         "0.0",
         "0.0",
         "0.0"
        ],
        [
         "7",
         "1.0",
         "1.0",
         "0.0",
         "0.0",
         "0.0",
         "1.0"
        ],
        [
         "8",
         "1.0",
         "0.0",
         "1.0",
         "0.0",
         "0.0",
         "1.0"
        ],
        [
         "9",
         "1.0",
         "1.0",
         "0.0",
         "0.0",
         "1.0",
         "1.0"
        ],
        [
         "10",
         "1.0",
         "1.0",
         "0.0",
         "0.0",
         "0.0",
         "0.0"
        ],
        [
         "11",
         "1.0",
         "0.0",
         "0.0",
         "0.0",
         "1.0",
         "1.0"
        ],
        [
         "12",
         "1.0",
         "0.0",
         "0.0",
         "0.0",
         "0.0",
         "0.0"
        ],
        [
         "13",
         "1.0",
         "1.0",
         "0.0",
         "0.0",
         "0.0",
         "0.0"
        ],
        [
         "14",
         "1.0",
         "0.0",
         "0.0",
         "0.0",
         "0.0",
         "1.0"
        ],
        [
         "15",
         "1.0",
         "0.0",
         "0.0",
         "0.0",
         "0.0",
         "1.0"
        ],
        [
         "16",
         "1.0",
         "0.0",
         "0.0",
         "1.0",
         "1.0",
         "0.0"
        ],
        [
         "17",
         "1.0",
         "0.0",
         "1.0",
         "0.0",
         "0.0",
         "0.0"
        ],
        [
         "18",
         "1.0",
         "0.0",
         "1.0",
         "0.0",
         "0.0",
         "0.0"
        ],
        [
         "19",
         "1.0",
         "1.0",
         "0.0",
         "0.0",
         "0.0",
         "0.0"
        ],
        [
         "20",
         "1.0",
         "0.0",
         "0.0",
         "0.0",
         "1.0",
         "0.0"
        ],
        [
         "21",
         "1.0",
         "1.0",
         "0.0",
         "0.0",
         "0.0",
         "0.0"
        ],
        [
         "22",
         "0.0",
         "0.0",
         "0.0",
         "0.0",
         "0.0",
         "0.0"
        ],
        [
         "23",
         "1.0",
         "0.0",
         "0.0",
         "1.0",
         "1.0",
         "0.0"
        ],
        [
         "24",
         "1.0",
         "1.0",
         "0.0",
         "0.0",
         "0.0",
         "0.0"
        ],
        [
         "25",
         "1.0",
         "1.0",
         "0.0",
         "0.0",
         "0.0",
         "0.0"
        ],
        [
         "26",
         "1.0",
         "1.0",
         "0.0",
         "0.0",
         "0.0",
         "0.0"
        ],
        [
         "27",
         "1.0",
         "0.0",
         "0.0",
         "1.0",
         "1.0",
         "0.0"
        ],
        [
         "28",
         "1.0",
         "0.0",
         "0.0",
         "0.0",
         "0.0",
         "0.0"
        ],
        [
         "29",
         "1.0",
         "0.0",
         "0.0",
         "0.0",
         "0.0",
         "1.0"
        ],
        [
         "30",
         "1.0",
         "0.0",
         "0.0",
         "1.0",
         "0.0",
         "1.0"
        ],
        [
         "31",
         "1.0",
         "0.0",
         "1.0",
         "0.0",
         "0.0",
         "0.0"
        ],
        [
         "32",
         "1.0",
         "0.0",
         "0.0",
         "0.0",
         "0.0",
         "0.0"
        ],
        [
         "33",
         "1.0",
         "0.0",
         "0.0",
         "0.0",
         "0.0",
         "0.0"
        ],
        [
         "34",
         "1.0",
         "1.0",
         "0.0",
         "0.0",
         "0.0",
         "1.0"
        ],
        [
         "35",
         "1.0",
         "1.0",
         "0.0",
         "0.0",
         "0.0",
         "0.0"
        ],
        [
         "36",
         "1.0",
         "0.0",
         "0.0",
         "1.0",
         "0.0",
         "0.0"
        ],
        [
         "37",
         "1.0",
         "0.0",
         "0.0",
         "1.0",
         "0.0",
         "0.0"
        ],
        [
         "38",
         "1.0",
         "0.0",
         "0.0",
         "0.0",
         "0.0",
         "0.0"
        ],
        [
         "39",
         "1.0",
         "0.0",
         "0.0",
         "1.0",
         "0.0",
         "1.0"
        ],
        [
         "40",
         "1.0",
         "1.0",
         "0.0",
         "0.0",
         "0.0",
         "0.0"
        ],
        [
         "41",
         "1.0",
         "0.0",
         "0.0",
         "0.0",
         "0.0",
         "1.0"
        ],
        [
         "42",
         "1.0",
         "0.0",
         "1.0",
         "0.0",
         "0.0",
         "0.0"
        ],
        [
         "43",
         "1.0",
         "0.0",
         "0.0",
         "0.0",
         "1.0",
         "0.0"
        ],
        [
         "44",
         "1.0",
         "0.0",
         "0.0",
         "1.0",
         "1.0",
         "0.0"
        ],
        [
         "45",
         "0.0",
         "0.0",
         "0.0",
         "0.0",
         "1.0",
         "0.0"
        ],
        [
         "46",
         "1.0",
         "0.0",
         "1.0",
         "0.0",
         "0.0",
         "0.0"
        ],
        [
         "47",
         "1.0",
         "1.0",
         "0.0",
         "0.0",
         "0.0",
         "1.0"
        ],
        [
         "48",
         "0.0",
         "0.0",
         "0.0",
         "0.0",
         "0.0",
         "1.0"
        ],
        [
         "49",
         "1.0",
         "0.0",
         "0.0",
         "0.0",
         "0.0",
         "1.0"
        ]
       ],
       "shape": {
        "columns": 6,
        "rows": 736
       }
      },
      "text/html": [
       "<div>\n",
       "<style scoped>\n",
       "    .dataframe tbody tr th:only-of-type {\n",
       "        vertical-align: middle;\n",
       "    }\n",
       "\n",
       "    .dataframe tbody tr th {\n",
       "        vertical-align: top;\n",
       "    }\n",
       "\n",
       "    .dataframe thead th {\n",
       "        text-align: right;\n",
       "    }\n",
       "</style>\n",
       "<table border=\"1\" class=\"dataframe\">\n",
       "  <thead>\n",
       "    <tr style=\"text-align: right;\">\n",
       "      <th></th>\n",
       "      <th>sex_Male</th>\n",
       "      <th>dataset_Hungary</th>\n",
       "      <th>dataset_Switzerland</th>\n",
       "      <th>dataset_VA Long Beach</th>\n",
       "      <th>fbs_True</th>\n",
       "      <th>exang_True</th>\n",
       "    </tr>\n",
       "  </thead>\n",
       "  <tbody>\n",
       "    <tr>\n",
       "      <th>0</th>\n",
       "      <td>1.0</td>\n",
       "      <td>0.0</td>\n",
       "      <td>0.0</td>\n",
       "      <td>1.0</td>\n",
       "      <td>0.0</td>\n",
       "      <td>1.0</td>\n",
       "    </tr>\n",
       "    <tr>\n",
       "      <th>1</th>\n",
       "      <td>1.0</td>\n",
       "      <td>1.0</td>\n",
       "      <td>0.0</td>\n",
       "      <td>0.0</td>\n",
       "      <td>0.0</td>\n",
       "      <td>0.0</td>\n",
       "    </tr>\n",
       "    <tr>\n",
       "      <th>2</th>\n",
       "      <td>1.0</td>\n",
       "      <td>0.0</td>\n",
       "      <td>0.0</td>\n",
       "      <td>1.0</td>\n",
       "      <td>0.0</td>\n",
       "      <td>0.0</td>\n",
       "    </tr>\n",
       "    <tr>\n",
       "      <th>3</th>\n",
       "      <td>0.0</td>\n",
       "      <td>0.0</td>\n",
       "      <td>0.0</td>\n",
       "      <td>0.0</td>\n",
       "      <td>0.0</td>\n",
       "      <td>0.0</td>\n",
       "    </tr>\n",
       "    <tr>\n",
       "      <th>4</th>\n",
       "      <td>1.0</td>\n",
       "      <td>0.0</td>\n",
       "      <td>0.0</td>\n",
       "      <td>0.0</td>\n",
       "      <td>0.0</td>\n",
       "      <td>0.0</td>\n",
       "    </tr>\n",
       "    <tr>\n",
       "      <th>...</th>\n",
       "      <td>...</td>\n",
       "      <td>...</td>\n",
       "      <td>...</td>\n",
       "      <td>...</td>\n",
       "      <td>...</td>\n",
       "      <td>...</td>\n",
       "    </tr>\n",
       "    <tr>\n",
       "      <th>731</th>\n",
       "      <td>1.0</td>\n",
       "      <td>0.0</td>\n",
       "      <td>0.0</td>\n",
       "      <td>0.0</td>\n",
       "      <td>0.0</td>\n",
       "      <td>1.0</td>\n",
       "    </tr>\n",
       "    <tr>\n",
       "      <th>732</th>\n",
       "      <td>1.0</td>\n",
       "      <td>0.0</td>\n",
       "      <td>0.0</td>\n",
       "      <td>0.0</td>\n",
       "      <td>0.0</td>\n",
       "      <td>1.0</td>\n",
       "    </tr>\n",
       "    <tr>\n",
       "      <th>733</th>\n",
       "      <td>1.0</td>\n",
       "      <td>0.0</td>\n",
       "      <td>0.0</td>\n",
       "      <td>1.0</td>\n",
       "      <td>1.0</td>\n",
       "      <td>1.0</td>\n",
       "    </tr>\n",
       "    <tr>\n",
       "      <th>734</th>\n",
       "      <td>0.0</td>\n",
       "      <td>1.0</td>\n",
       "      <td>0.0</td>\n",
       "      <td>0.0</td>\n",
       "      <td>0.0</td>\n",
       "      <td>1.0</td>\n",
       "    </tr>\n",
       "    <tr>\n",
       "      <th>735</th>\n",
       "      <td>0.0</td>\n",
       "      <td>0.0</td>\n",
       "      <td>0.0</td>\n",
       "      <td>0.0</td>\n",
       "      <td>0.0</td>\n",
       "      <td>0.0</td>\n",
       "    </tr>\n",
       "  </tbody>\n",
       "</table>\n",
       "<p>736 rows × 6 columns</p>\n",
       "</div>"
      ],
      "text/plain": [
       "     sex_Male  dataset_Hungary  ...  fbs_True  exang_True\n",
       "0         1.0              0.0  ...       0.0         1.0\n",
       "1         1.0              1.0  ...       0.0         0.0\n",
       "2         1.0              0.0  ...       0.0         0.0\n",
       "3         0.0              0.0  ...       0.0         0.0\n",
       "4         1.0              0.0  ...       0.0         0.0\n",
       "..        ...              ...  ...       ...         ...\n",
       "731       1.0              0.0  ...       0.0         1.0\n",
       "732       1.0              0.0  ...       0.0         1.0\n",
       "733       1.0              0.0  ...       1.0         1.0\n",
       "734       0.0              1.0  ...       0.0         1.0\n",
       "735       0.0              0.0  ...       0.0         0.0\n",
       "\n",
       "[736 rows x 6 columns]"
      ]
     },
     "execution_count": 31,
     "metadata": {},
     "output_type": "execute_result"
    }
   ],
   "source": [
    "df_encoded = pd.DataFrame(X_encoded, columns=encoded_columns)\n",
    "df_encoded"
   ]
  },
  {
   "cell_type": "code",
   "execution_count": 33,
   "id": "72866882",
   "metadata": {},
   "outputs": [],
   "source": [
    "from sklearn.model_selection import train_test_split\n",
    "from sklearn.compose import ColumnTransformer\n",
    "from sklearn.pipeline import Pipeline\n",
    "from sklearn.impute import SimpleImputer\n",
    "from sklearn.preprocessing import OneHotEncoder\n",
    "from sklearn.preprocessing import OrdinalEncoder\n",
    "from sklearn.preprocessing import MinMaxScaler\n",
    "from sklearn.preprocessing import  StandardScaler\n",
    "from sklearn.tree import DecisionTreeClassifier"
   ]
  },
  {
   "cell_type": "code",
   "execution_count": null,
   "id": "5c197a40",
   "metadata": {},
   "outputs": [],
   "source": [
    "X = df_dropped[['age', 'trestbps', 'chol', 'thalch', 'oldpeak', 'ca', 'num']]\n",
    "y = df_dropped['num']\n",
    "\n",
    "X_train, X_test, y_train, y_test = train_test_split(X, y, test_size=0.2, random_state=42)\n",
    "X_train['chol'] = np.log1p(X_train['chol'])\n",
    "\n",
    "# Imputation transform for handling missing categorical values \n",
    "trf1 = ColumnTransformer([\n",
    "        ('cat', SimpleImputer(strategy='most_frequent'), categorical_cols),     # Filling the missing categorical values with the most frequent value\n",
    "        ('num', KNNImputer(n_neighbors=3, weights='distance'), numerical_cols)  # Filling the missing numerical values with the mean of the 3 nearest neighbors\n",
    "])\n",
    "\n",
    "# Applying the one hot encoding for the categorical columns\n",
    "trf2 = ColumnTransformer([\n",
    "        ('ohe', OneHotEncoder(drop='first'), normal_cat_cols)\n",
    "])\n",
    "\n",
    "# Applying the ordinal encoding for the ordinal columns\n",
    "trf3 = ColumnTransformer([\n",
    "        ('ohe', OrdinalEncoder(categories=[\n",
    "            ['asymptomatic', 'non-anginal', 'atypical angina', 'typical angina'], \n",
    "            ['normal', 'st-t abnormality', 'lv hypertrophy'], \n",
    "            ['flat', 'upsloping', 'downsloping'],\n",
    "            ['normal', 'reversable defect', 'fixed defect']\n",
    "            ]), oridnal_columns)\n",
    "])\n",
    "\n",
    "import numpy as np\n",
    "df['chol_log'] = np.log1p(df['chol'])  # Use log1p to avoid log(0)\n",
    "df['ca_log'] = np.log1p(df['ca'])\n",
    "\n",
    "# Applying the standardscaler for age column \n",
    "trf4 = ColumnTransformer([\n",
    "    ('scaler', StandardScaler(), ['age', 'trestbps', 'chol_log', 'thalch'])\n",
    "    ('min_max_scaler', MinMaxScaler(), ['oldpeak', 'ca_log']) \n",
    "])"
   ]
  },
  {
   "cell_type": "code",
   "execution_count": 51,
   "id": "7c3c47e0",
   "metadata": {},
   "outputs": [
    {
     "data": {
      "application/vnd.microsoft.datawrangler.viewer.v0+json": {
       "columns": [
        {
         "name": "index",
         "rawType": "object",
         "type": "string"
        },
        {
         "name": "ca",
         "rawType": "float64",
         "type": "float"
        }
       ],
       "ref": "7d90560e-af82-4f6e-9e68-b9e25e89a753",
       "rows": [
        [
         "count",
         "250.0"
        ],
        [
         "mean",
         "0.688"
        ],
        [
         "std",
         "0.9603881410794828"
        ],
        [
         "min",
         "0.0"
        ],
        [
         "25%",
         "0.0"
        ],
        [
         "50%",
         "0.0"
        ],
        [
         "75%",
         "1.0"
        ],
        [
         "max",
         "3.0"
        ]
       ],
       "shape": {
        "columns": 1,
        "rows": 8
       }
      },
      "text/plain": [
       "count    250.000000\n",
       "mean       0.688000\n",
       "std        0.960388\n",
       "min        0.000000\n",
       "25%        0.000000\n",
       "50%        0.000000\n",
       "75%        1.000000\n",
       "max        3.000000\n",
       "Name: ca, dtype: float64"
      ]
     },
     "execution_count": 51,
     "metadata": {},
     "output_type": "execute_result"
    }
   ],
   "source": [
    "X_train['ca'].describe()"
   ]
  },
  {
   "cell_type": "code",
   "execution_count": 37,
   "id": "bbd4b675",
   "metadata": {},
   "outputs": [],
   "source": [
    "X_train = X_train[X_train['trestbps'] > 0]  # Keep only valid BP values"
   ]
  },
  {
   "cell_type": "code",
   "execution_count": 50,
   "id": "0f9bd06a",
   "metadata": {},
   "outputs": [
    {
     "data": {
      "image/png": "[encoded data removed]",
      "text/plain": [
       "<Figure size 640x480 with 1 Axes>"
      ]
     },
     "metadata": {},
     "output_type": "display_data"
    }
   ],
   "source": [
    "import seaborn as sns \n",
    "sns.distplot(X_train['ca'])\n",
    "plt.show()"
   ]
  },
  {
   "cell_type": "code",
   "execution_count": 39,
   "id": "55144582",
   "metadata": {},
   "outputs": [
    {
     "data": {
      "image/png": "[encoded data removed]",
      "text/plain": [
       "<Figure size 640x480 with 1 Axes>"
      ]
     },
     "metadata": {},
     "output_type": "display_data"
    }
   ],
   "source": [
    "sns.boxplot(X_train['trestbps'])\n",
    "plt.show()"
   ]
  }
 ],
 "metadata": {
  "kernelspec": {
   "display_name": "Python 3",
   "language": "python",
   "name": "python3"
  },
  "language_info": {
   "codemirror_mode": {
    "name": "ipython",
    "version": 3
   },
   "file_extension": ".py",
   "mimetype": "text/x-python",
   "name": "python",
   "nbconvert_exporter": "python",
   "pygments_lexer": "ipython3",
   "version": "3.11.9"
  }
 },
 "nbformat": 4,
 "nbformat_minor": 5
}
