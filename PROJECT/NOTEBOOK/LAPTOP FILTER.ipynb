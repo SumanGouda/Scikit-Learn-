{
 "cells": [
  {
   "cell_type": "code",
   "execution_count": null,
   "id": "8e9fd1cb",
   "metadata": {},
   "outputs": [],
   "source": [
    "# -------Load Modules --------\n",
    "import pandas as pd\n",
    "import numpy as np\n",
    "import matplotlib.pyplot as plt\n",
    "\n",
    "# -------- Load Dataset---------\n",
    "df = pd.read_csv()"
   ]
  },
  {
   "cell_type": "code",
   "execution_count": null,
   "id": "952c7631",
   "metadata": {},
   "outputs": [],
   "source": []
  }
 ],
 "metadata": {
  "language_info": {
   "name": "python"
  }
 },
 "nbformat": 4,
 "nbformat_minor": 5
}
