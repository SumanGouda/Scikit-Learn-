{
 "cells": [
  {
   "cell_type": "markdown",
   "id": "b5302f00",
   "metadata": {},
   "source": [
    "# Netflix search engine"
   ]
  },
  {
   "cell_type": "code",
   "execution_count": 7,
   "id": "98a9b657",
   "metadata": {},
   "outputs": [
    {
     "name": "stdout",
     "output_type": "stream",
     "text": [
      "Recommendations for: Dark\n",
      "Khotey Sikkey\n",
      "Deadwind\n",
      "Futmalls.com\n",
      "She\n",
      "Sleepless Society: Two Pillows & A Lost Soul\n"
     ]
    }
   ],
   "source": [
    "import pandas as pd \n",
    "import numpy as np \n",
    "import matplotlib.pyplot as plt \n",
    "import seaborn as sns\n",
    "\n",
    "import warnings\n",
    "warnings.filterwarnings('ignore')\n",
    "\n",
    "from sklearn.model_selection import train_test_split\n",
    "from sklearn.preprocessing import StandardScaler\n",
    "from sklearn.neighbors import NearestNeighbors\n",
    "from sklearn.metrics import confusion_matrix, accuracy_score, f1_score\n",
    "from sklearn.preprocessing import MinMaxScaler, MultiLabelBinarizer\n",
    "from sklearn.feature_extraction.text import TfidfVectorizer\n",
    "\n",
    "# Load the dataset\n",
    "netflix_data = pd.read_csv(r\"D:\\PYTON PROGRAMMING\\PYTHON FILES\\Scikit-Learn\\PROJECT\\DATA\\netflix_titles.csv\")\n",
    "\n",
    "# Data Preprocessing\n",
    "netflix_data['type_num'] = netflix_data['type'].map({'TV Show': 0, 'Movie': 1})\n",
    "\n",
    "scaler = MinMaxScaler()\n",
    "netflix_data['release_year_scaled'] = scaler.fit_transform(netflix_data[['release_year']])\n",
    "\n",
    "def extract_duration(val):\n",
    "    try:\n",
    "        return int(val.split(' ')[0])\n",
    "    except:\n",
    "        return None\n",
    "netflix_data['duration_num'] = netflix_data['duration'].apply(extract_duration)\n",
    "netflix_data['duration_num_scaled'] = scaler.fit_transform(netflix_data[['duration_num']])\n",
    "\n",
    "netflix_data['genre_list'] = netflix_data['listed_in'].apply(lambda x: x.split(', '))\n",
    "mlb = MultiLabelBinarizer()\n",
    "genre_netflix_data = pd.DataFrame(mlb.fit_transform(netflix_data['genre_list']), columns=mlb.classes_, index=netflix_data.index) \n",
    "netflix_data = pd.concat([netflix_data, genre_netflix_data], axis=1) \n",
    "\n",
    "\n",
    "netflix_data['cast'] = netflix_data['cast'].fillna('')  # fill missing\n",
    "vectorizer = TfidfVectorizer(max_features=50)\n",
    "cast_matrix = vectorizer.fit_transform(netflix_data['cast'])\n",
    "\n",
    "features = np.hstack([\n",
    "    netflix_data[['type_num', 'release_year_scaled', 'duration_num_scaled']].fillna(0).values,\n",
    "    genre_netflix_data.values,\n",
    "    cast_matrix.toarray()\n",
    "])\n",
    "\n",
    "# Model Training\n",
    "model_knn = NearestNeighbors(n_neighbors=6, metric='cosine')\n",
    "model_knn.fit(features)\n",
    "\n",
    "# Testing the model\n",
    "title = \"Dark\"\n",
    "filtered_df = netflix_data[netflix_data['title'] == title]\n",
    "\n",
    "if not filtered_df.empty:\n",
    "    target_index = filtered_df.index[0]\n",
    "    # Get feature vector for this title\n",
    "    distances, indices = model_knn.kneighbors([features[target_index]])\n",
    "    print(\"Recommendations for:\", title)\n",
    "    for i in indices[0][1:]:\n",
    "        print(netflix_data.iloc[i]['title'])\n",
    "else:\n",
    "    print(f\"❌ Title '{title}' not found in the dataset.\")\n",
    "\n",
    "\n"
   ]
  }
 ],
 "metadata": {
  "kernelspec": {
   "display_name": "Python 3",
   "language": "python",
   "name": "python3"
  },
  "language_info": {
   "codemirror_mode": {
    "name": "ipython",
    "version": 3
   },
   "file_extension": ".py",
   "mimetype": "text/x-python",
   "name": "python",
   "nbconvert_exporter": "python",
   "pygments_lexer": "ipython3",
   "version": "3.11.9"
  }
 },
 "nbformat": 4,
 "nbformat_minor": 5
}
