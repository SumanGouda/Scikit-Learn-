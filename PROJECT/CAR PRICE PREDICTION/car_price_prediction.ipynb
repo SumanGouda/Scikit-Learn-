{
 "cells": [
  {
   "cell_type": "code",
   "execution_count": null,
   "id": "85a67250",
   "metadata": {},
   "outputs": [],
   "source": [
    "import requests\n",
    "import pandas as pd\n",
    "\n",
    "API_KEY = \"your_key_here\"\n",
    "specs_url = f\"https://api.edmunds.com/api/vehicle/v2/makes?state=used&view=full&fmt=json&api_key={API_KEY}\"\n",
    "specs_data = requests.get(specs_url).json()['makes']\n",
    "specs_df = pd.json_normalize(specs_data)"
   ]
  },
  {
   "cell_type": "code",
   "execution_count": null,
   "id": "60601499",
   "metadata": {},
   "outputs": [],
   "source": [
    "historical_url = f\"https://api.edmunds.com/api/v2/historicalcost?make={make}&model={model}&year={year}&api_key={API_KEY}\"\n",
    "historical_data = requests.get(historical_url).json()\n",
    "historical_df = pd.json_normalize(historical_data)"
   ]
  },
  {
   "cell_type": "code",
   "execution_count": null,
   "id": "d2dbc24e",
   "metadata": {},
   "outputs": [],
   "source": [
    "combined_df = pd.merge(\n",
    "    specs_df[['make.name', 'model.name', 'year.year', 'engine.horsepower', 'price.baseMSRP']],\n",
    "    historical_df[['averagePrice', 'percentDepreciation', 'mileageBand']],\n",
    "    left_on=['make.name', 'model.name', 'year.year'],\n",
    "    right_on=['make', 'model', 'year'],\n",
    "    how='left'\n",
    ")"
   ]
  },
  {
   "cell_type": "code",
   "execution_count": 6,
   "id": "89072ab4",
   "metadata": {},
   "outputs": [
    {
     "name": "stdout",
     "output_type": "stream",
     "text": [
      "[{'city_mpg': 'this field is for premium subscribers only', 'class': 'compact car', 'combination_mpg': 'this field is for premium subscribers only', 'cylinders': 4, 'displacement': 1.6, 'drive': 'fwd', 'fuel_type': 'gas', 'highway_mpg': 'this field is for premium subscribers only', 'make': 'toyota', 'model': 'corolla', 'transmission': 'a', 'year': 1993}]\n"
     ]
    }
   ],
   "source": [
    "import requests\n",
    "\n",
    "url = \"https://cars-by-api-ninjas.p.rapidapi.com/v1/cars\"\n",
    "\n",
    "querystring = {\"model\":\"corolla\"}\n",
    "\n",
    "headers = {\n",
    "\t\"x-rapidapi-key\": \"003deefbf4mshf3349f539514267p174164jsn601b560afa7d\",\n",
    "\t\"x-rapidapi-host\": \"cars-by-api-ninjas.p.rapidapi.com\"\n",
    "}\n",
    "\n",
    "response = requests.get(url, headers=headers, params=querystring)\n",
    "\n",
    "print(response.json())"
   ]
  },
  {
   "cell_type": "code",
   "execution_count": 34,
   "id": "254276e1",
   "metadata": {},
   "outputs": [
    {
     "ename": "NoSuchDriverException",
     "evalue": "Message: Unable to obtain driver for chrome; For documentation on this error, please visit: https://www.selenium.dev/documentation/webdriver/troubleshooting/errors/driver_location\n",
     "output_type": "error",
     "traceback": [
      "\u001b[31m---------------------------------------------------------------------------\u001b[39m",
      "\u001b[31mValueError\u001b[39m                                Traceback (most recent call last)",
      "\u001b[36mFile \u001b[39m\u001b[32m~\\AppData\\Local\\Packages\\PythonSoftwareFoundation.Python.3.11_qbz5n2kfra8p0\\LocalCache\\local-packages\\Python311\\site-packages\\selenium\\webdriver\\common\\driver_finder.py:64\u001b[39m, in \u001b[36mDriverFinder._binary_paths\u001b[39m\u001b[34m(self)\u001b[39m\n\u001b[32m     63\u001b[39m \u001b[38;5;28;01mif\u001b[39;00m \u001b[38;5;129;01mnot\u001b[39;00m Path(path).is_file():\n\u001b[32m---> \u001b[39m\u001b[32m64\u001b[39m     \u001b[38;5;28;01mraise\u001b[39;00m \u001b[38;5;167;01mValueError\u001b[39;00m(\u001b[33mf\u001b[39m\u001b[33m\"\u001b[39m\u001b[33mThe path is not a valid file: \u001b[39m\u001b[38;5;132;01m{\u001b[39;00mpath\u001b[38;5;132;01m}\u001b[39;00m\u001b[33m\"\u001b[39m)\n\u001b[32m     65\u001b[39m \u001b[38;5;28mself\u001b[39m._paths[\u001b[33m\"\u001b[39m\u001b[33mdriver_path\u001b[39m\u001b[33m\"\u001b[39m] = path\n",
      "\u001b[31mValueError\u001b[39m: The path is not a valid file: /path/to/chromedriver",
      "\nThe above exception was the direct cause of the following exception:\n",
      "\u001b[31mNoSuchDriverException\u001b[39m                     Traceback (most recent call last)",
      "\u001b[36mCell\u001b[39m\u001b[36m \u001b[39m\u001b[32mIn[34]\u001b[39m\u001b[32m, line 62\u001b[39m\n\u001b[32m     59\u001b[39m     \u001b[38;5;28;01mreturn\u001b[39;00m pd.DataFrame(cars)\n\u001b[32m     61\u001b[39m \u001b[38;5;66;03m# Main execution\u001b[39;00m\n\u001b[32m---> \u001b[39m\u001b[32m62\u001b[39m driver = \u001b[43msetup_driver\u001b[49m\u001b[43m(\u001b[49m\u001b[43m)\u001b[49m\n\u001b[32m     63\u001b[39m \u001b[38;5;28;01mtry\u001b[39;00m:\n\u001b[32m     64\u001b[39m     \u001b[38;5;66;03m# Scrape multiple VW models\u001b[39;00m\n\u001b[32m     65\u001b[39m     models = [\u001b[33m\"\u001b[39m\u001b[33mtiguan\u001b[39m\u001b[33m\"\u001b[39m, \u001b[33m\"\u001b[39m\u001b[33mvento\u001b[39m\u001b[33m\"\u001b[39m, \u001b[33m\"\u001b[39m\u001b[33mtaigun\u001b[39m\u001b[33m\"\u001b[39m, \u001b[33m\"\u001b[39m\u001b[33mvirtus\u001b[39m\u001b[33m\"\u001b[39m, \u001b[33m\"\u001b[39m\u001b[33mpolo\u001b[39m\u001b[33m\"\u001b[39m]\n",
      "\u001b[36mCell\u001b[39m\u001b[36m \u001b[39m\u001b[32mIn[34]\u001b[39m\u001b[32m, line 20\u001b[39m, in \u001b[36msetup_driver\u001b[39m\u001b[34m()\u001b[39m\n\u001b[32m     18\u001b[39m chrome_options.add_argument(\u001b[33m\"\u001b[39m\u001b[33m--disable-blink-features=AutomationControlled\u001b[39m\u001b[33m\"\u001b[39m)\n\u001b[32m     19\u001b[39m service = Service(CHROME_DRIVER_PATH)\n\u001b[32m---> \u001b[39m\u001b[32m20\u001b[39m driver = \u001b[43mwebdriver\u001b[49m\u001b[43m.\u001b[49m\u001b[43mChrome\u001b[49m\u001b[43m(\u001b[49m\u001b[43mservice\u001b[49m\u001b[43m=\u001b[49m\u001b[43mservice\u001b[49m\u001b[43m,\u001b[49m\u001b[43m \u001b[49m\u001b[43moptions\u001b[49m\u001b[43m=\u001b[49m\u001b[43mchrome_options\u001b[49m\u001b[43m)\u001b[49m\n\u001b[32m     21\u001b[39m \u001b[38;5;28;01mreturn\u001b[39;00m driver\n",
      "\u001b[36mFile \u001b[39m\u001b[32m~\\AppData\\Local\\Packages\\PythonSoftwareFoundation.Python.3.11_qbz5n2kfra8p0\\LocalCache\\local-packages\\Python311\\site-packages\\selenium\\webdriver\\chrome\\webdriver.py:47\u001b[39m, in \u001b[36mWebDriver.__init__\u001b[39m\u001b[34m(self, options, service, keep_alive)\u001b[39m\n\u001b[32m     44\u001b[39m service = service \u001b[38;5;28;01mif\u001b[39;00m service \u001b[38;5;28;01melse\u001b[39;00m Service()\n\u001b[32m     45\u001b[39m options = options \u001b[38;5;28;01mif\u001b[39;00m options \u001b[38;5;28;01melse\u001b[39;00m Options()\n\u001b[32m---> \u001b[39m\u001b[32m47\u001b[39m \u001b[38;5;28;43msuper\u001b[39;49m\u001b[43m(\u001b[49m\u001b[43m)\u001b[49m\u001b[43m.\u001b[49m\u001b[34;43m__init__\u001b[39;49m\u001b[43m(\u001b[49m\n\u001b[32m     48\u001b[39m \u001b[43m    \u001b[49m\u001b[43mbrowser_name\u001b[49m\u001b[43m=\u001b[49m\u001b[43mDesiredCapabilities\u001b[49m\u001b[43m.\u001b[49m\u001b[43mCHROME\u001b[49m\u001b[43m[\u001b[49m\u001b[33;43m\"\u001b[39;49m\u001b[33;43mbrowserName\u001b[39;49m\u001b[33;43m\"\u001b[39;49m\u001b[43m]\u001b[49m\u001b[43m,\u001b[49m\n\u001b[32m     49\u001b[39m \u001b[43m    \u001b[49m\u001b[43mvendor_prefix\u001b[49m\u001b[43m=\u001b[49m\u001b[33;43m\"\u001b[39;49m\u001b[33;43mgoog\u001b[39;49m\u001b[33;43m\"\u001b[39;49m\u001b[43m,\u001b[49m\n\u001b[32m     50\u001b[39m \u001b[43m    \u001b[49m\u001b[43moptions\u001b[49m\u001b[43m=\u001b[49m\u001b[43moptions\u001b[49m\u001b[43m,\u001b[49m\n\u001b[32m     51\u001b[39m \u001b[43m    \u001b[49m\u001b[43mservice\u001b[49m\u001b[43m=\u001b[49m\u001b[43mservice\u001b[49m\u001b[43m,\u001b[49m\n\u001b[32m     52\u001b[39m \u001b[43m    \u001b[49m\u001b[43mkeep_alive\u001b[49m\u001b[43m=\u001b[49m\u001b[43mkeep_alive\u001b[49m\u001b[43m,\u001b[49m\n\u001b[32m     53\u001b[39m \u001b[43m\u001b[49m\u001b[43m)\u001b[49m\n",
      "\u001b[36mFile \u001b[39m\u001b[32m~\\AppData\\Local\\Packages\\PythonSoftwareFoundation.Python.3.11_qbz5n2kfra8p0\\LocalCache\\local-packages\\Python311\\site-packages\\selenium\\webdriver\\chromium\\webdriver.py:53\u001b[39m, in \u001b[36mChromiumDriver.__init__\u001b[39m\u001b[34m(self, browser_name, vendor_prefix, options, service, keep_alive)\u001b[39m\n\u001b[32m     50\u001b[39m \u001b[38;5;28mself\u001b[39m.service = service\n\u001b[32m     52\u001b[39m finder = DriverFinder(\u001b[38;5;28mself\u001b[39m.service, options)\n\u001b[32m---> \u001b[39m\u001b[32m53\u001b[39m \u001b[38;5;28;01mif\u001b[39;00m \u001b[43mfinder\u001b[49m\u001b[43m.\u001b[49m\u001b[43mget_browser_path\u001b[49m\u001b[43m(\u001b[49m\u001b[43m)\u001b[49m:\n\u001b[32m     54\u001b[39m     options.binary_location = finder.get_browser_path()\n\u001b[32m     55\u001b[39m     options.browser_version = \u001b[38;5;28;01mNone\u001b[39;00m\n",
      "\u001b[36mFile \u001b[39m\u001b[32m~\\AppData\\Local\\Packages\\PythonSoftwareFoundation.Python.3.11_qbz5n2kfra8p0\\LocalCache\\local-packages\\Python311\\site-packages\\selenium\\webdriver\\common\\driver_finder.py:47\u001b[39m, in \u001b[36mDriverFinder.get_browser_path\u001b[39m\u001b[34m(self)\u001b[39m\n\u001b[32m     46\u001b[39m \u001b[38;5;28;01mdef\u001b[39;00m\u001b[38;5;250m \u001b[39m\u001b[34mget_browser_path\u001b[39m(\u001b[38;5;28mself\u001b[39m) -> \u001b[38;5;28mstr\u001b[39m:\n\u001b[32m---> \u001b[39m\u001b[32m47\u001b[39m     \u001b[38;5;28;01mreturn\u001b[39;00m \u001b[38;5;28;43mself\u001b[39;49m\u001b[43m.\u001b[49m\u001b[43m_binary_paths\u001b[49m\u001b[43m(\u001b[49m\u001b[43m)\u001b[49m[\u001b[33m\"\u001b[39m\u001b[33mbrowser_path\u001b[39m\u001b[33m\"\u001b[39m]\n",
      "\u001b[36mFile \u001b[39m\u001b[32m~\\AppData\\Local\\Packages\\PythonSoftwareFoundation.Python.3.11_qbz5n2kfra8p0\\LocalCache\\local-packages\\Python311\\site-packages\\selenium\\webdriver\\common\\driver_finder.py:78\u001b[39m, in \u001b[36mDriverFinder._binary_paths\u001b[39m\u001b[34m(self)\u001b[39m\n\u001b[32m     76\u001b[39m \u001b[38;5;28;01mexcept\u001b[39;00m \u001b[38;5;167;01mException\u001b[39;00m \u001b[38;5;28;01mas\u001b[39;00m err:\n\u001b[32m     77\u001b[39m     msg = \u001b[33mf\u001b[39m\u001b[33m\"\u001b[39m\u001b[33mUnable to obtain driver for \u001b[39m\u001b[38;5;132;01m{\u001b[39;00mbrowser\u001b[38;5;132;01m}\u001b[39;00m\u001b[33m\"\u001b[39m\n\u001b[32m---> \u001b[39m\u001b[32m78\u001b[39m     \u001b[38;5;28;01mraise\u001b[39;00m NoSuchDriverException(msg) \u001b[38;5;28;01mfrom\u001b[39;00m\u001b[38;5;250m \u001b[39m\u001b[34;01merr\u001b[39;00m\n\u001b[32m     79\u001b[39m \u001b[38;5;28;01mreturn\u001b[39;00m \u001b[38;5;28mself\u001b[39m._paths\n",
      "\u001b[31mNoSuchDriverException\u001b[39m: Message: Unable to obtain driver for chrome; For documentation on this error, please visit: https://www.selenium.dev/documentation/webdriver/troubleshooting/errors/driver_location\n"
     ]
    }
   ],
   "source": [
    "import pandas as pd\n",
    "from selenium import webdriver\n",
    "from selenium.webdriver.chrome.service import Service\n",
    "from selenium.webdriver.common.by import By\n",
    "from selenium.webdriver.chrome.options import Options\n",
    "from bs4 import BeautifulSoup\n",
    "import time\n",
    "import re\n",
    "\n",
    "# Configuration\n",
    "CHROME_DRIVER_PATH = \"/path/to/chromedriver\"  # Download from https://chromedriver.chromium.org/\n",
    "BASE_URL = \"https://www.cardekho.com/volkswagen\"\n",
    "\n",
    "def setup_driver():\n",
    "    \"\"\"Configure headless Chrome browser\"\"\"\n",
    "    chrome_options = Options()\n",
    "    chrome_options.add_argument(\"--headless\")\n",
    "    chrome_options.add_argument(\"--disable-blink-features=AutomationControlled\")\n",
    "    service = Service(CHROME_DRIVER_PATH)\n",
    "    driver = webdriver.Chrome(service=service, options=chrome_options)\n",
    "    return driver\n",
    "\n",
    "def scrape_cardekho_vw(driver, model=\"tiguan\"):\n",
    "    \"\"\"Scrape specific Volkswagen model data from CarDekho\"\"\"\n",
    "    print(f\"Scraping Volkswagen {model}...\")\n",
    "    driver.get(f\"{BASE_URL}/{model}\")\n",
    "    time.sleep(5)  # Wait for page load\n",
    "    \n",
    "    # Scroll to load all listings\n",
    "    last_height = driver.execute_script(\"return document.body.scrollHeight\")\n",
    "    while True:\n",
    "        driver.execute_script(\"window.scrollTo(0, document.body.scrollHeight);\")\n",
    "        time.sleep(3)\n",
    "        new_height = driver.execute_script(\"return document.body.scrollHeight\")\n",
    "        if new_height == last_height:\n",
    "            break\n",
    "        last_height = new_height\n",
    "    \n",
    "    soup = BeautifulSoup(driver.page_source, 'html.parser')\n",
    "    cars = []\n",
    "    \n",
    "    for listing in soup.select('div.gsc_col-xs-12.gsc_col-sm-12.gsc_col-md-8.gsc_col-lg-8'):\n",
    "        try:\n",
    "            car_data = {\n",
    "                'model': model.upper(),\n",
    "                'variant': listing.find('h3', class_='variantName').text.strip(),\n",
    "                'price': listing.find('div', class_='price').text.strip().replace('₹', '').replace(',', ''),\n",
    "                'year': re.search(r'\\d{4}', listing.find('div', class_='holder').text).group(0),\n",
    "                'mileage': listing.find('li', title='Mileage').text.replace(' kmpl', '') if listing.find('li', title='Mileage') else None,\n",
    "                'engine': listing.find('li', title='Engine').text if listing.find('li', title='Engine') else None,\n",
    "                'transmission': listing.find('li', title='Transmission').text if listing.find('li', title='Transmission') else None,\n",
    "                'link': \"https://www.cardekho.com\" + listing.find('a')['href']\n",
    "            }\n",
    "            cars.append(car_data)\n",
    "        except Exception as e:\n",
    "            print(f\"Skipped listing: {str(e)}\")\n",
    "            continue\n",
    "    \n",
    "    return pd.DataFrame(cars)\n",
    "\n",
    "# Main execution\n",
    "driver = setup_driver()\n",
    "try:\n",
    "    # Scrape multiple VW models\n",
    "    models = [\"tiguan\", \"vento\", \"taigun\", \"virtus\", \"polo\"]\n",
    "    all_data = pd.DataFrame()\n",
    "    \n",
    "    for model in models:\n",
    "        model_df = scrape_cardekho_vw(driver, model)\n",
    "        all_data = pd.concat([all_data, model_df], ignore_index=True)\n",
    "        time.sleep(5)  # Be polite between requests\n",
    "    \n",
    "    # Clean data\n",
    "    all_data['price'] = pd.to_numeric(all_data['price'], errors='coerce')\n",
    "    all_data['mileage'] = pd.to_numeric(all_data['mileage'], errors='coerce')\n",
    "    \n",
    "    # Save to CSV\n",
    "    filename = f\"volkswagen_cardekho_{pd.Timestamp.now().strftime('%Y%m%d')}.csv\"\n",
    "    all_data.to_csv(filename, index=False)\n",
    "    print(f\"\\n✅ Collected {len(all_data)} Volkswagen listings from CarDekho\")\n",
    "    print(all_data.head().to_markdown())\n",
    "    \n",
    "finally:\n",
    "    driver.quit()"
   ]
  }
 ],
 "metadata": {
  "kernelspec": {
   "display_name": "Python 3",
   "language": "python",
   "name": "python3"
  },
  "language_info": {
   "codemirror_mode": {
    "name": "ipython",
    "version": 3
   },
   "file_extension": ".py",
   "mimetype": "text/x-python",
   "name": "python",
   "nbconvert_exporter": "python",
   "pygments_lexer": "ipython3",
   "version": "3.11.9"
  }
 },
 "nbformat": 4,
 "nbformat_minor": 5
}
